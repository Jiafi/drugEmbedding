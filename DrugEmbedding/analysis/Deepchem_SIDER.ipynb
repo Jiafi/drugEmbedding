{
 "cells": [
  {
   "cell_type": "markdown",
   "metadata": {},
   "source": [
    "# Load Python Modules"
   ]
  },
  {
   "cell_type": "code",
   "execution_count": 1,
   "metadata": {},
   "outputs": [],
   "source": [
    "import warnings\n",
    "warnings.simplefilter(action='ignore')"
   ]
  },
  {
   "cell_type": "code",
   "execution_count": 2,
   "metadata": {},
   "outputs": [
    {
     "name": "stderr",
     "output_type": "stream",
     "text": [
      "/pylon5/ac5616p/yuke/anaconda3/envs/MolEnv2/lib/python3.6/site-packages/sklearn/externals/joblib/__init__.py:15: DeprecationWarning: sklearn.externals.joblib is deprecated in 0.21 and will be removed in 0.23. Please import this functionality directly from joblib, which can be installed with: pip install joblib. If this warning is raised when loading pickled models, you may need to re-serialize those models with scikit-learn 0.21+.\n",
      "  warnings.warn(msg, category=DeprecationWarning)\n"
     ]
    }
   ],
   "source": [
    "from __future__ import print_function\n",
    "from __future__ import division\n",
    "from __future__ import unicode_literals\n",
    "\n",
    "import os\n",
    "import numpy as np\n",
    "import pandas as pd\n",
    "import shutil\n",
    "import deepchem as dc\n",
    "import json\n",
    "\n",
    "from rdkit import Chem\n",
    "from sklearn.metrics import roc_auc_score\n",
    "from  sklearn.neighbors import KNeighborsClassifier\n",
    "from tqdm import tnrange, tqdm_notebook"
   ]
  },
  {
   "cell_type": "code",
   "execution_count": 3,
   "metadata": {},
   "outputs": [],
   "source": [
    "os.chdir('/home/yuke/PythonProject/DrugEmbedding/')\n",
    "from decode import *"
   ]
  },
  {
   "cell_type": "code",
   "execution_count": 4,
   "metadata": {},
   "outputs": [],
   "source": [
    "\"\"\"\n",
    "SIDER dataset loader.\n",
    "\"\"\"\n",
    "def load_sider(featurizer='ECFP', split='index', seed=0):\n",
    "    #current_dir = os.path.dirname(os.path.realpath(__file__))\n",
    "\n",
    "    # Load SIDER dataset\n",
    "    print(\"About to load SIDER dataset.\")\n",
    "    dataset_file = os.path.join(\"./data/sider/deepchem/sider.csv.gz\")\n",
    "    dataset = dc.utils.save.load_from_disk(dataset_file)\n",
    "    print(\"Columns of dataset: %s\" % str(dataset.columns.values))\n",
    "    print(\"Number of examples in dataset: %s\" % str(dataset.shape[0]))\n",
    "\n",
    "    # Featurize SIDER dataset\n",
    "    print(\"About to featurize SIDER dataset.\")\n",
    "    if featurizer == 'ECFP':\n",
    "        featurizer = dc.feat.CircularFingerprint(size=1024)\n",
    "    elif featurizer == 'GraphConv':\n",
    "        featurizer = dc.feat.ConvMolFeaturizer()\n",
    "\n",
    "    SIDER_tasks = dataset.columns.values[1:].tolist()\n",
    "    print(\"SIDER tasks: %s\" % str(SIDER_tasks))\n",
    "    print(\"%d tasks in total\" % len(SIDER_tasks))\n",
    "\n",
    "    loader = dc.data.CSVLoader(\n",
    "      tasks=SIDER_tasks, smiles_field=\"smiles\", featurizer=featurizer)\n",
    "    dataset = loader.featurize(dataset_file)\n",
    "    print(\"%d datapoints in SIDER dataset\" % len(dataset))\n",
    "\n",
    "    # Initialize transformers\n",
    "    transformers = [\n",
    "      dc.trans.BalancingTransformer(transform_w=True, dataset=dataset)]\n",
    "    print(\"About to transform data\")\n",
    "    for transformer in transformers:\n",
    "        dataset = transformer.transform(dataset)\n",
    "\n",
    "    splitters = {'index': dc.splits.IndexSplitter(),\n",
    "               'random': dc.splits.RandomSplitter(),\n",
    "               'scaffold': dc.splits.ScaffoldSplitter()}\n",
    "    splitter = splitters[split]\n",
    "    train, valid, test = splitter.train_valid_test_split(dataset, seed=seed)\n",
    "\n",
    "    return SIDER_tasks, (train, valid, test), transformers"
   ]
  },
  {
   "cell_type": "markdown",
   "metadata": {},
   "source": [
    "# Load Model"
   ]
  },
  {
   "cell_type": "code",
   "execution_count": 5,
   "metadata": {},
   "outputs": [],
   "source": [
    "seed = 94\n",
    "#np.random.seed(seed)"
   ]
  },
  {
   "cell_type": "code",
   "execution_count": 6,
   "metadata": {},
   "outputs": [
    {
     "data": {
      "text/plain": [
       "{'data_dir': './data/fda_drugs',\n",
       " 'data_file': 'smiles_set_clean.smi',\n",
       " 'fda_file': 'all_drugs.smi',\n",
       " 'vocab_file': 'char_set_clean.pkl',\n",
       " 'atc_sim_file': 'drugs_sp_all.csv',\n",
       " 'checkpoint_dir': './experiments/KDD',\n",
       " 'experiment_name': 'kdd_010',\n",
       " 'task': 'vae + atc',\n",
       " 'limit': 0,\n",
       " 'batch_size': 128,\n",
       " 'epochs': 100,\n",
       " 'max_sequence_length': 120,\n",
       " 'learning_rate': 0.0003,\n",
       " 'max_norm': 1000000000000.0,\n",
       " 'wd': 0.0,\n",
       " 'manifold_type': 'Lorentz',\n",
       " 'prior_type': 'Standard',\n",
       " 'num_centroids': 0,\n",
       " 'bidirectional': False,\n",
       " 'num_layers': 1,\n",
       " 'hidden_size': 512,\n",
       " 'latent_size': 64,\n",
       " 'word_dropout_rate': 0.2,\n",
       " 'anneal_function': 'logistic',\n",
       " 'k': 0.51,\n",
       " 'x0': 29.0,\n",
       " 'C': 1.0,\n",
       " 'num_workers': 4,\n",
       " 'logging_steps': 1,\n",
       " 'save_per_epochs': 10,\n",
       " 'new_training': False,\n",
       " 'new_annealing': False,\n",
       " 'checkpoint': 'checkpoint_epoch110.model',\n",
       " 'trained_epochs': 110,\n",
       " 'alpha': 0.0,\n",
       " 'beta': 0.015625,\n",
       " 'gamma': 0.0,\n",
       " 'delta': 11.0,\n",
       " 'nneg': 11,\n",
       " 'fda_prop': 0.2}"
      ]
     },
     "execution_count": 6,
     "metadata": {},
     "output_type": "execute_result"
    }
   ],
   "source": [
    "exp_dir = './experiments/KDD/kdd_010'\n",
    "checkpoint = 'checkpoint_epoch110.model'\n",
    "config_path = os.path.join(exp_dir, 'configs.json')\n",
    "checkpoint_path = os.path.join(exp_dir, checkpoint)\n",
    "\n",
    "with open(config_path, 'r') as fp:\n",
    "    configs = json.load(fp)\n",
    "fp.close()\n",
    "\n",
    "configs['checkpoint'] = checkpoint\n",
    "configs"
   ]
  },
  {
   "cell_type": "code",
   "execution_count": 7,
   "metadata": {},
   "outputs": [
    {
     "name": "stdout",
     "output_type": "stream",
     "text": [
      "HVAE(\n",
      "  (encoder_rnn): GRU(49, 512, batch_first=True)\n",
      "  (decoder_rnn): GRU(49, 512, batch_first=True)\n",
      "  (hidden2mean): Linear(in_features=512, out_features=64, bias=True)\n",
      "  (hidden2logv): Linear(in_features=512, out_features=64, bias=True)\n",
      "  (latent2hidden): Linear(in_features=65, out_features=512, bias=True)\n",
      "  (outputs2vocab): Linear(in_features=512, out_features=49, bias=True)\n",
      "  (RECON): NLLLoss()\n",
      ")\n"
     ]
    }
   ],
   "source": [
    "model = load_model(configs)\n",
    "print(model)"
   ]
  },
  {
   "cell_type": "code",
   "execution_count": 8,
   "metadata": {},
   "outputs": [
    {
     "data": {
      "text/plain": [
       "{'data_dir': './data/fda_drugs',\n",
       " 'data_file': 'smiles_set_clean.smi',\n",
       " 'fda_file': 'all_drugs.smi',\n",
       " 'vocab_file': 'char_set_clean.pkl',\n",
       " 'atc_sim_file': 'drugs_sp_all.csv',\n",
       " 'checkpoint_dir': './experiments/KDD',\n",
       " 'experiment_name': 'kdd_009',\n",
       " 'task': 'vae + atc',\n",
       " 'limit': 0,\n",
       " 'batch_size': 128,\n",
       " 'epochs': 100,\n",
       " 'max_sequence_length': 120,\n",
       " 'learning_rate': 0.0003,\n",
       " 'max_norm': 1000000000000.0,\n",
       " 'wd': 0.0,\n",
       " 'manifold_type': 'Euclidean',\n",
       " 'prior_type': 'Standard',\n",
       " 'num_centroids': 0,\n",
       " 'bidirectional': False,\n",
       " 'num_layers': 1,\n",
       " 'hidden_size': 512,\n",
       " 'latent_size': 64,\n",
       " 'word_dropout_rate': 0.2,\n",
       " 'anneal_function': 'logistic',\n",
       " 'k': 0.51,\n",
       " 'x0': 29.0,\n",
       " 'C': 1.0,\n",
       " 'num_workers': 4,\n",
       " 'logging_steps': 1,\n",
       " 'save_per_epochs': 10,\n",
       " 'new_training': False,\n",
       " 'new_annealing': False,\n",
       " 'checkpoint': 'checkpoint_epoch110.model',\n",
       " 'trained_epochs': 110,\n",
       " 'alpha': 0.0,\n",
       " 'beta': 0.015625,\n",
       " 'gamma': 0.0,\n",
       " 'delta': 11.0,\n",
       " 'nneg': 11,\n",
       " 'fda_prop': 0.2}"
      ]
     },
     "execution_count": 8,
     "metadata": {},
     "output_type": "execute_result"
    }
   ],
   "source": [
    "exp_dir = './experiments/KDD/kdd_009'\n",
    "checkpoint = 'checkpoint_epoch110.model'\n",
    "config_path = os.path.join(exp_dir, 'configs.json')\n",
    "checkpoint_path = os.path.join(exp_dir, checkpoint)\n",
    "\n",
    "with open(config_path, 'r') as fp:\n",
    "    configs_e = json.load(fp)\n",
    "fp.close()\n",
    "\n",
    "configs_e['checkpoint'] = checkpoint\n",
    "configs_e"
   ]
  },
  {
   "cell_type": "code",
   "execution_count": 9,
   "metadata": {},
   "outputs": [
    {
     "name": "stdout",
     "output_type": "stream",
     "text": [
      "EVAE(\n",
      "  (encoder_rnn): GRU(49, 512, batch_first=True)\n",
      "  (decoder_rnn): GRU(49, 512, batch_first=True)\n",
      "  (hidden2mean): Linear(in_features=512, out_features=64, bias=True)\n",
      "  (hidden2logv): Linear(in_features=512, out_features=64, bias=True)\n",
      "  (latent2hidden): Linear(in_features=64, out_features=512, bias=True)\n",
      "  (outputs2vocab): Linear(in_features=512, out_features=49, bias=True)\n",
      "  (RECON): NLLLoss()\n",
      ")\n"
     ]
    }
   ],
   "source": [
    "model_e = load_model(configs_e)\n",
    "print(model_e)"
   ]
  },
  {
   "cell_type": "markdown",
   "metadata": {},
   "source": [
    "# Process Data"
   ]
  },
  {
   "cell_type": "code",
   "execution_count": 10,
   "metadata": {},
   "outputs": [
    {
     "name": "stdout",
     "output_type": "stream",
     "text": [
      "About to load SIDER dataset.\n",
      "Columns of dataset: ['smiles' 'Hepatobiliary disorders' 'Metabolism and nutrition disorders'\n",
      " 'Product issues' 'Eye disorders' 'Investigations'\n",
      " 'Musculoskeletal and connective tissue disorders'\n",
      " 'Gastrointestinal disorders' 'Social circumstances'\n",
      " 'Immune system disorders' 'Reproductive system and breast disorders'\n",
      " 'Neoplasms benign, malignant and unspecified (incl cysts and polyps)'\n",
      " 'General disorders and administration site conditions'\n",
      " 'Endocrine disorders' 'Surgical and medical procedures'\n",
      " 'Vascular disorders' 'Blood and lymphatic system disorders'\n",
      " 'Skin and subcutaneous tissue disorders'\n",
      " 'Congenital, familial and genetic disorders'\n",
      " 'Infections and infestations'\n",
      " 'Respiratory, thoracic and mediastinal disorders' 'Psychiatric disorders'\n",
      " 'Renal and urinary disorders'\n",
      " 'Pregnancy, puerperium and perinatal conditions'\n",
      " 'Ear and labyrinth disorders' 'Cardiac disorders'\n",
      " 'Nervous system disorders'\n",
      " 'Injury, poisoning and procedural complications']\n",
      "Number of examples in dataset: 1427\n",
      "About to featurize SIDER dataset.\n",
      "SIDER tasks: ['Hepatobiliary disorders', 'Metabolism and nutrition disorders', 'Product issues', 'Eye disorders', 'Investigations', 'Musculoskeletal and connective tissue disorders', 'Gastrointestinal disorders', 'Social circumstances', 'Immune system disorders', 'Reproductive system and breast disorders', 'Neoplasms benign, malignant and unspecified (incl cysts and polyps)', 'General disorders and administration site conditions', 'Endocrine disorders', 'Surgical and medical procedures', 'Vascular disorders', 'Blood and lymphatic system disorders', 'Skin and subcutaneous tissue disorders', 'Congenital, familial and genetic disorders', 'Infections and infestations', 'Respiratory, thoracic and mediastinal disorders', 'Psychiatric disorders', 'Renal and urinary disorders', 'Pregnancy, puerperium and perinatal conditions', 'Ear and labyrinth disorders', 'Cardiac disorders', 'Nervous system disorders', 'Injury, poisoning and procedural complications']\n",
      "27 tasks in total\n",
      "Loading raw samples now.\n",
      "shard_size: 8192\n",
      "About to start loading CSV from ./data/sider/deepchem/sider.csv.gz\n",
      "Loading shard 1 of size 8192.\n",
      "Featurizing sample 0\n",
      "Featurizing sample 1000\n",
      "TIMING: featurizing shard 0 took 1.914 s\n",
      "TIMING: dataset construction took 2.138 s\n",
      "Loading dataset from disk.\n",
      "1427 datapoints in SIDER dataset\n",
      "About to transform data\n",
      "TIMING: dataset construction took 0.065 s\n",
      "Loading dataset from disk.\n",
      "TIMING: dataset construction took 0.063 s\n",
      "Loading dataset from disk.\n",
      "TIMING: dataset construction took 0.026 s\n",
      "Loading dataset from disk.\n",
      "TIMING: dataset construction took 0.026 s\n",
      "Loading dataset from disk.\n"
     ]
    }
   ],
   "source": [
    "sider_tasks, datasets, transformers = load_sider(split='random', seed=seed)\n",
    "train_dataset, valid_dataset, test_dataset = datasets"
   ]
  },
  {
   "cell_type": "code",
   "execution_count": 11,
   "metadata": {},
   "outputs": [],
   "source": [
    "# side effects labels\n",
    "train_y = train_dataset.y\n",
    "valid_y = valid_dataset.y\n",
    "test_y = test_dataset.y"
   ]
  },
  {
   "cell_type": "code",
   "execution_count": 12,
   "metadata": {},
   "outputs": [],
   "source": [
    "# Finger Print\n",
    "train_fp = train_dataset.X\n",
    "valid_fp = valid_dataset.X\n",
    "test_fp = test_dataset.X"
   ]
  },
  {
   "cell_type": "code",
   "execution_count": 13,
   "metadata": {},
   "outputs": [],
   "source": [
    "train_smi = train_dataset.ids\n",
    "valid_smi = valid_dataset.ids\n",
    "test_smi = test_dataset.ids"
   ]
  },
  {
   "cell_type": "code",
   "execution_count": 14,
   "metadata": {},
   "outputs": [],
   "source": [
    "def smi2mean(configs, model, smi_lst):\n",
    "    mean_lst = []\n",
    "    for i in tnrange(len(smi_lst)):\n",
    "        # convert to canonical form\n",
    "        smi = smi_lst[i]\n",
    "        try:\n",
    "            smi_can = Chem.MolToSmiles(Chem.MolFromSmiles(smi))\n",
    "        except:\n",
    "            smi_can = smi\n",
    "        mean, _ = smiles2mean(configs, smi_can, model)\n",
    "        mean_lst.append(mean.squeeze().cpu().detach().numpy())\n",
    "    return np.array(mean_lst)"
   ]
  },
  {
   "cell_type": "code",
   "execution_count": 15,
   "metadata": {},
   "outputs": [
    {
     "data": {
      "application/vnd.jupyter.widget-view+json": {
       "model_id": "1b234ae0ab9a410a8e862b611bacb10d",
       "version_major": 2,
       "version_minor": 0
      },
      "text/plain": [
       "HBox(children=(IntProgress(value=0, max=1141), HTML(value='')))"
      ]
     },
     "metadata": {},
     "output_type": "display_data"
    },
    {
     "name": "stdout",
     "output_type": "stream",
     "text": [
      "\n"
     ]
    }
   ],
   "source": [
    "train_mu = smi2mean(configs, model, train_smi)"
   ]
  },
  {
   "cell_type": "code",
   "execution_count": 16,
   "metadata": {},
   "outputs": [
    {
     "data": {
      "application/vnd.jupyter.widget-view+json": {
       "model_id": "afeb0211f4e24bbe805f1a5f860f3c79",
       "version_major": 2,
       "version_minor": 0
      },
      "text/plain": [
       "HBox(children=(IntProgress(value=0, max=143), HTML(value='')))"
      ]
     },
     "metadata": {},
     "output_type": "display_data"
    },
    {
     "name": "stdout",
     "output_type": "stream",
     "text": [
      "\n"
     ]
    }
   ],
   "source": [
    "valid_mu = smi2mean(configs, model, valid_smi)"
   ]
  },
  {
   "cell_type": "code",
   "execution_count": 17,
   "metadata": {},
   "outputs": [
    {
     "data": {
      "application/vnd.jupyter.widget-view+json": {
       "model_id": "9a612e4c20fe461a9999c1aa891dfa2e",
       "version_major": 2,
       "version_minor": 0
      },
      "text/plain": [
       "HBox(children=(IntProgress(value=0, max=143), HTML(value='')))"
      ]
     },
     "metadata": {},
     "output_type": "display_data"
    },
    {
     "name": "stdout",
     "output_type": "stream",
     "text": [
      "\n"
     ]
    }
   ],
   "source": [
    "test_mu = smi2mean(configs, model, test_smi)"
   ]
  },
  {
   "cell_type": "code",
   "execution_count": 18,
   "metadata": {},
   "outputs": [
    {
     "data": {
      "application/vnd.jupyter.widget-view+json": {
       "model_id": "53d03d92b8324f5287d26b2db97fc082",
       "version_major": 2,
       "version_minor": 0
      },
      "text/plain": [
       "HBox(children=(IntProgress(value=0, max=1141), HTML(value='')))"
      ]
     },
     "metadata": {},
     "output_type": "display_data"
    },
    {
     "name": "stdout",
     "output_type": "stream",
     "text": [
      "\n"
     ]
    }
   ],
   "source": [
    "train_mu_e = smi2mean(configs_e, model_e, train_smi)"
   ]
  },
  {
   "cell_type": "code",
   "execution_count": 19,
   "metadata": {},
   "outputs": [
    {
     "data": {
      "application/vnd.jupyter.widget-view+json": {
       "model_id": "45962121eb734fc7a603328fed05b652",
       "version_major": 2,
       "version_minor": 0
      },
      "text/plain": [
       "HBox(children=(IntProgress(value=0, max=143), HTML(value='')))"
      ]
     },
     "metadata": {},
     "output_type": "display_data"
    },
    {
     "name": "stdout",
     "output_type": "stream",
     "text": [
      "\n"
     ]
    }
   ],
   "source": [
    "valid_mu_e = smi2mean(configs_e, model_e, valid_smi)"
   ]
  },
  {
   "cell_type": "code",
   "execution_count": 20,
   "metadata": {},
   "outputs": [
    {
     "data": {
      "application/vnd.jupyter.widget-view+json": {
       "model_id": "59cc2aa20dfc4f248e67cd5e042e28a6",
       "version_major": 2,
       "version_minor": 0
      },
      "text/plain": [
       "HBox(children=(IntProgress(value=0, max=143), HTML(value='')))"
      ]
     },
     "metadata": {},
     "output_type": "display_data"
    },
    {
     "name": "stdout",
     "output_type": "stream",
     "text": [
      "\n"
     ]
    }
   ],
   "source": [
    "test_mu_e = smi2mean(configs_e, model_e, test_smi)"
   ]
  },
  {
   "cell_type": "markdown",
   "metadata": {},
   "source": [
    "# Custom Distance Functions"
   ]
  },
  {
   "cell_type": "code",
   "execution_count": 21,
   "metadata": {},
   "outputs": [],
   "source": [
    "def lor_dist(z1, z2):\n",
    "    m = z1*z2\n",
    "    lor_prod = m[1:].sum() - m[0]\n",
    "    x = - lor_prod\n",
    "    x = np.where(x<1.0, 1.0+1e-6, x)\n",
    "    return np.log(x + np.sqrt(x**2 - 1))"
   ]
  },
  {
   "cell_type": "markdown",
   "metadata": {},
   "source": [
    "# KNN Classifier"
   ]
  },
  {
   "cell_type": "code",
   "execution_count": 22,
   "metadata": {},
   "outputs": [],
   "source": [
    "def get_scores(y_true, y_pred):\n",
    "    roc_aucs = []\n",
    "    n_data, n_dim = y_true.shape\n",
    "    for j in range(n_dim):\n",
    "        true_label = y_true[:, j]\n",
    "        pred_label = y_pred[:, j]\n",
    "        roc_aucs.append(roc_auc_score(true_label, pred_label))\n",
    "    return np.array(roc_aucs)"
   ]
  },
  {
   "cell_type": "markdown",
   "metadata": {},
   "source": [
    "## Hyperparameters"
   ]
  },
  {
   "cell_type": "code",
   "execution_count": 23,
   "metadata": {},
   "outputs": [],
   "source": [
    "# pick N and weights type based on validation dataset\n",
    "#N = np.arange(3, 31, 2)\n",
    "#W = ['uniform', 'distance']\n",
    "\n",
    "#roc_scores = np.zeros((len(N), len(W)))\n",
    "#for i in tnrange(len(N)):\n",
    "#    n = N[i]\n",
    "#    for j in range(len(W)):\n",
    "#        w = W[j]\n",
    "#        neigh = KNeighborsClassifier(n_neighbors=n, algorithm='brute', metric=lor_dist, weights=w)\n",
    "#        neigh.fit(train_mu, train_y)\n",
    "#        \n",
    "#        pred = neigh.predict_proba(valid_mu) # 27 * size(x) * 2\n",
    "#        # covert predicted probability to an array\n",
    "#        n_data, n_dim = valid_y.shape\n",
    "#        valid_y_pred = np.zeros((n_data, n_dim))\n",
    "#        for jj in range(n_dim):\n",
    "#            valid_y_pred[:, jj] = pred[jj][:, 1]\n",
    "#        roc_scores[i,j] = get_scores(valid_y, valid_y_pred).mean()"
   ]
  },
  {
   "cell_type": "code",
   "execution_count": 24,
   "metadata": {},
   "outputs": [],
   "source": [
    "#roc_scores"
   ]
  },
  {
   "cell_type": "code",
   "execution_count": 25,
   "metadata": {},
   "outputs": [],
   "source": [
    "#ind = np.unravel_index(np.argmax(roc_scores, axis=None), roc_scores.shape)\n",
    "#N_val = N[ind[0]]\n",
    "#W_val = W[ind[1]]"
   ]
  },
  {
   "cell_type": "code",
   "execution_count": 26,
   "metadata": {},
   "outputs": [],
   "source": [
    "N_val = 11\n",
    "W_val = 'distance'"
   ]
  },
  {
   "cell_type": "markdown",
   "metadata": {},
   "source": [
    "## Fit and Predict"
   ]
  },
  {
   "cell_type": "markdown",
   "metadata": {},
   "source": [
    "### Finger Prints"
   ]
  },
  {
   "cell_type": "code",
   "execution_count": 859,
   "metadata": {},
   "outputs": [
    {
     "data": {
      "text/plain": [
       "KNeighborsClassifier(algorithm='brute', leaf_size=30, metric='rogerstanimoto',\n",
       "                     metric_params=None, n_jobs=None, n_neighbors=11, p=2,\n",
       "                     weights='distance')"
      ]
     },
     "execution_count": 859,
     "metadata": {},
     "output_type": "execute_result"
    }
   ],
   "source": [
    "# Finger Print Representations\n",
    "neigh_fp = KNeighborsClassifier(n_neighbors=N_val, algorithm='brute', metric='rogerstanimoto', weights=W_val)\n",
    "neigh_fp.fit(train_fp, train_y)"
   ]
  },
  {
   "cell_type": "code",
   "execution_count": 860,
   "metadata": {},
   "outputs": [],
   "source": [
    "pred_fp = neigh_fp.predict_proba(test_fp) # 27 * size(x) * 2\n",
    "\n",
    "# covert predicted probability to an array\n",
    "n_data, n_dim = test_y.shape\n",
    "test_y_pred_fp = np.zeros((n_data, n_dim))\n",
    "for j in range(n_dim):\n",
    "    test_y_pred_fp[:, j] = pred_fp[j][:, 1]\n",
    "    \n",
    "#test_y_pred_fp = neigh_fp.predict(test_fp)"
   ]
  },
  {
   "cell_type": "markdown",
   "metadata": {},
   "source": [
    "### Lorentz Embeddings"
   ]
  },
  {
   "cell_type": "code",
   "execution_count": 861,
   "metadata": {},
   "outputs": [
    {
     "data": {
      "text/plain": [
       "KNeighborsClassifier(algorithm='brute', leaf_size=30,\n",
       "                     metric=<function lor_dist at 0x7f453e581048>,\n",
       "                     metric_params=None, n_jobs=None, n_neighbors=11, p=2,\n",
       "                     weights='distance')"
      ]
     },
     "execution_count": 861,
     "metadata": {},
     "output_type": "execute_result"
    }
   ],
   "source": [
    "neigh_lor = KNeighborsClassifier(n_neighbors=N_val, algorithm='brute', metric=lor_dist, weights=W_val)\n",
    "neigh_lor.fit(train_mu, train_y)"
   ]
  },
  {
   "cell_type": "code",
   "execution_count": 862,
   "metadata": {},
   "outputs": [],
   "source": [
    "pred_lor = neigh_lor.predict_proba(test_mu) # 27 * size(x) * 2\n",
    "\n",
    "# covert predicted probability to an array\n",
    "n_data, n_dim = test_y.shape\n",
    "test_y_pred_lor = np.zeros((n_data, n_dim))\n",
    "for j in range(n_dim):\n",
    "    test_y_pred_lor[:, j] = pred_lor[j][:, 1]    \n",
    "#test_y_pred_lor = neigh_lor.predict(test_mu)"
   ]
  },
  {
   "cell_type": "markdown",
   "metadata": {},
   "source": [
    "### Euclidean Embeddings"
   ]
  },
  {
   "cell_type": "code",
   "execution_count": 863,
   "metadata": {},
   "outputs": [
    {
     "data": {
      "text/plain": [
       "KNeighborsClassifier(algorithm='brute', leaf_size=30, metric='minkowski',\n",
       "                     metric_params=None, n_jobs=None, n_neighbors=11, p=2,\n",
       "                     weights='distance')"
      ]
     },
     "execution_count": 863,
     "metadata": {},
     "output_type": "execute_result"
    }
   ],
   "source": [
    "neigh_euc = KNeighborsClassifier(n_neighbors=N_val, algorithm='brute', weights=W_val)\n",
    "neigh_euc.fit(train_mu_e, train_y)"
   ]
  },
  {
   "cell_type": "code",
   "execution_count": 864,
   "metadata": {},
   "outputs": [],
   "source": [
    "pred_euc = neigh_euc.predict_proba(test_mu_e) # 27 * size(x) * 2\n",
    "\n",
    "# covert predicted probability to an array\n",
    "n_data, n_dim = test_y.shape\n",
    "test_y_pred_euc = np.zeros((n_data, n_dim))\n",
    "for j in range(n_dim):\n",
    "    test_y_pred_euc[:, j] = pred_euc[j][:, 1]    \n",
    "#test_y_pred_lor = neigh_lor.predict(test_mu)"
   ]
  },
  {
   "cell_type": "markdown",
   "metadata": {},
   "source": [
    "## Evaluation"
   ]
  },
  {
   "cell_type": "code",
   "execution_count": 865,
   "metadata": {},
   "outputs": [
    {
     "data": {
      "text/plain": [
       "0.6458398619647381"
      ]
     },
     "execution_count": 865,
     "metadata": {},
     "output_type": "execute_result"
    }
   ],
   "source": [
    "get_scores(test_y, test_y_pred_fp).mean()"
   ]
  },
  {
   "cell_type": "code",
   "execution_count": 866,
   "metadata": {},
   "outputs": [
    {
     "data": {
      "text/plain": [
       "0.6918879079609296"
      ]
     },
     "execution_count": 866,
     "metadata": {},
     "output_type": "execute_result"
    }
   ],
   "source": [
    "get_scores(test_y, test_y_pred_lor).mean()"
   ]
  },
  {
   "cell_type": "code",
   "execution_count": 867,
   "metadata": {},
   "outputs": [
    {
     "data": {
      "text/plain": [
       "0.7212944949110265"
      ]
     },
     "execution_count": 867,
     "metadata": {},
     "output_type": "execute_result"
    }
   ],
   "source": [
    "get_scores(test_y, test_y_pred_euc).mean()"
   ]
  },
  {
   "cell_type": "markdown",
   "metadata": {},
   "source": [
    "# RF"
   ]
  },
  {
   "cell_type": "markdown",
   "metadata": {},
   "source": [
    "## Finger Print"
   ]
  },
  {
   "cell_type": "code",
   "execution_count": 868,
   "metadata": {},
   "outputs": [
    {
     "data": {
      "text/plain": [
       "RandomForestClassifier(bootstrap=True, class_weight='balanced',\n",
       "                       criterion='gini', max_depth=None, max_features='auto',\n",
       "                       max_leaf_nodes=None, min_impurity_decrease=0.0,\n",
       "                       min_impurity_split=None, min_samples_leaf=1,\n",
       "                       min_samples_split=2, min_weight_fraction_leaf=0.0,\n",
       "                       n_estimators=500, n_jobs=None, oob_score=False,\n",
       "                       random_state=None, verbose=0, warm_start=False)"
      ]
     },
     "execution_count": 868,
     "metadata": {},
     "output_type": "execute_result"
    }
   ],
   "source": [
    "rf_fp = RandomForestClassifier(class_weight=\"balanced\", n_estimators=500)\n",
    "rf_fp.fit(train_fp, train_y)"
   ]
  },
  {
   "cell_type": "code",
   "execution_count": 869,
   "metadata": {},
   "outputs": [],
   "source": [
    "rf_pred_fp = rf_fp.predict_proba(test_fp) # 27 * size(x) * 2\n",
    "\n",
    "# covert predicted probability to an array\n",
    "n_data, n_dim = test_y.shape\n",
    "test_y_rf_pred_fp = np.zeros((n_data, n_dim))\n",
    "for j in range(n_dim):\n",
    "    test_y_rf_pred_fp[:, j] = rf_pred_fp[j][:, 1]    \n",
    "#test_y_pred_lor = neigh_lor.predict(test_mu)"
   ]
  },
  {
   "cell_type": "code",
   "execution_count": 870,
   "metadata": {},
   "outputs": [
    {
     "data": {
      "text/plain": [
       "0.6956212473853256"
      ]
     },
     "execution_count": 870,
     "metadata": {},
     "output_type": "execute_result"
    }
   ],
   "source": [
    "get_scores(test_y, test_y_rf_pred_fp).mean()"
   ]
  },
  {
   "cell_type": "markdown",
   "metadata": {},
   "source": [
    "## Lorentz Embeddings"
   ]
  },
  {
   "cell_type": "code",
   "execution_count": 871,
   "metadata": {},
   "outputs": [
    {
     "data": {
      "text/plain": [
       "RandomForestClassifier(bootstrap=True, class_weight='balanced',\n",
       "                       criterion='gini', max_depth=None, max_features='auto',\n",
       "                       max_leaf_nodes=None, min_impurity_decrease=0.0,\n",
       "                       min_impurity_split=None, min_samples_leaf=1,\n",
       "                       min_samples_split=2, min_weight_fraction_leaf=0.0,\n",
       "                       n_estimators=500, n_jobs=None, oob_score=False,\n",
       "                       random_state=None, verbose=0, warm_start=False)"
      ]
     },
     "execution_count": 871,
     "metadata": {},
     "output_type": "execute_result"
    }
   ],
   "source": [
    "rf_lor = RandomForestClassifier(class_weight=\"balanced\", n_estimators=500)\n",
    "rf_lor.fit(train_mu, train_y)"
   ]
  },
  {
   "cell_type": "code",
   "execution_count": 872,
   "metadata": {},
   "outputs": [],
   "source": [
    "rf_pred_lor = rf_lor.predict_proba(test_mu) # 27 * size(x) * 2\n",
    "\n",
    "# covert predicted probability to an array\n",
    "n_data, n_dim = test_y.shape\n",
    "test_y_rf_pred_lor = np.zeros((n_data, n_dim))\n",
    "for j in range(n_dim):\n",
    "    test_y_rf_pred_lor[:, j] = rf_pred_lor[j][:, 1]    \n",
    "#test_y_pred_lor = neigh_lor.predict(test_mu)"
   ]
  },
  {
   "cell_type": "code",
   "execution_count": 873,
   "metadata": {},
   "outputs": [
    {
     "data": {
      "text/plain": [
       "0.6962457163532647"
      ]
     },
     "execution_count": 873,
     "metadata": {},
     "output_type": "execute_result"
    }
   ],
   "source": [
    "get_scores(test_y, test_y_rf_pred_lor).mean()"
   ]
  },
  {
   "cell_type": "markdown",
   "metadata": {},
   "source": [
    "## Euclidean Embeddings"
   ]
  },
  {
   "cell_type": "code",
   "execution_count": 874,
   "metadata": {},
   "outputs": [
    {
     "data": {
      "text/plain": [
       "RandomForestClassifier(bootstrap=True, class_weight='balanced',\n",
       "                       criterion='gini', max_depth=None, max_features='auto',\n",
       "                       max_leaf_nodes=None, min_impurity_decrease=0.0,\n",
       "                       min_impurity_split=None, min_samples_leaf=1,\n",
       "                       min_samples_split=2, min_weight_fraction_leaf=0.0,\n",
       "                       n_estimators=500, n_jobs=None, oob_score=False,\n",
       "                       random_state=None, verbose=0, warm_start=False)"
      ]
     },
     "execution_count": 874,
     "metadata": {},
     "output_type": "execute_result"
    }
   ],
   "source": [
    "rf_euc = RandomForestClassifier(class_weight=\"balanced\", n_estimators=500)\n",
    "rf_euc.fit(train_mu_e, train_y)"
   ]
  },
  {
   "cell_type": "code",
   "execution_count": 875,
   "metadata": {},
   "outputs": [],
   "source": [
    "rf_pred_euc = rf_euc.predict_proba(test_mu_e) # 27 * size(x) * 2\n",
    "\n",
    "# covert predicted probability to an array\n",
    "n_data, n_dim = test_y.shape\n",
    "test_y_rf_pred_euc = np.zeros((n_data, n_dim))\n",
    "for j in range(n_dim):\n",
    "    test_y_rf_pred_euc[:, j] = rf_pred_euc[j][:, 1]    \n",
    "#test_y_pred_lor = neigh_lor.predict(test_mu)"
   ]
  },
  {
   "cell_type": "code",
   "execution_count": 876,
   "metadata": {},
   "outputs": [
    {
     "data": {
      "text/plain": [
       "0.7184381426485935"
      ]
     },
     "execution_count": 876,
     "metadata": {},
     "output_type": "execute_result"
    }
   ],
   "source": [
    "get_scores(test_y, test_y_rf_pred_euc).mean()"
   ]
  },
  {
   "cell_type": "markdown",
   "metadata": {},
   "source": [
    "# Deepchem Models"
   ]
  },
  {
   "cell_type": "code",
   "execution_count": 877,
   "metadata": {
    "scrolled": false
   },
   "outputs": [
    {
     "name": "stdout",
     "output_type": "stream",
     "text": [
      "About to initialize singletask to multitask model\n",
      "Initializing directory for task Hepatobiliary disorders\n",
      "Initializing directory for task Metabolism and nutrition disorders\n",
      "Initializing directory for task Product issues\n",
      "Initializing directory for task Eye disorders\n",
      "Initializing directory for task Investigations\n",
      "Initializing directory for task Musculoskeletal and connective tissue disorders\n",
      "Initializing directory for task Gastrointestinal disorders\n",
      "Initializing directory for task Social circumstances\n",
      "Initializing directory for task Immune system disorders\n",
      "Initializing directory for task Reproductive system and breast disorders\n",
      "Initializing directory for task Neoplasms benign, malignant and unspecified (incl cysts and polyps)\n",
      "Initializing directory for task General disorders and administration site conditions\n",
      "Initializing directory for task Endocrine disorders\n",
      "Initializing directory for task Surgical and medical procedures\n",
      "Initializing directory for task Vascular disorders\n",
      "Initializing directory for task Blood and lymphatic system disorders\n",
      "Initializing directory for task Skin and subcutaneous tissue disorders\n",
      "Initializing directory for task Congenital, familial and genetic disorders\n",
      "Initializing directory for task Infections and infestations\n",
      "Initializing directory for task Respiratory, thoracic and mediastinal disorders\n",
      "Initializing directory for task Psychiatric disorders\n",
      "Initializing directory for task Renal and urinary disorders\n",
      "Initializing directory for task Pregnancy, puerperium and perinatal conditions\n",
      "Initializing directory for task Ear and labyrinth disorders\n",
      "Initializing directory for task Cardiac disorders\n",
      "Initializing directory for task Nervous system disorders\n",
      "Initializing directory for task Injury, poisoning and procedural complications\n",
      "About to create task-specific datasets\n",
      "Splitting multitask dataset into singletask datasets\n",
      "TIMING: dataset construction took 0.167 s\n",
      "Loading dataset from disk.\n",
      "TIMING: dataset construction took 0.005 s\n",
      "Loading dataset from disk.\n",
      "TIMING: dataset construction took 0.003 s\n",
      "Loading dataset from disk.\n",
      "TIMING: dataset construction took 0.002 s\n",
      "Loading dataset from disk.\n",
      "TIMING: dataset construction took 0.002 s\n",
      "Loading dataset from disk.\n",
      "TIMING: dataset construction took 0.002 s\n",
      "Loading dataset from disk.\n",
      "TIMING: dataset construction took 0.002 s\n",
      "Loading dataset from disk.\n",
      "TIMING: dataset construction took 0.002 s\n",
      "Loading dataset from disk.\n",
      "TIMING: dataset construction took 0.002 s\n",
      "Loading dataset from disk.\n",
      "TIMING: dataset construction took 0.002 s\n",
      "Loading dataset from disk.\n",
      "TIMING: dataset construction took 0.002 s\n",
      "Loading dataset from disk.\n",
      "TIMING: dataset construction took 0.002 s\n",
      "Loading dataset from disk.\n",
      "TIMING: dataset construction took 0.002 s\n",
      "Loading dataset from disk.\n",
      "TIMING: dataset construction took 0.002 s\n",
      "Loading dataset from disk.\n",
      "TIMING: dataset construction took 0.002 s\n",
      "Loading dataset from disk.\n",
      "TIMING: dataset construction took 0.002 s\n",
      "Loading dataset from disk.\n",
      "TIMING: dataset construction took 0.002 s\n",
      "Loading dataset from disk.\n",
      "TIMING: dataset construction took 0.002 s\n",
      "Loading dataset from disk.\n",
      "TIMING: dataset construction took 0.002 s\n",
      "Loading dataset from disk.\n",
      "TIMING: dataset construction took 0.002 s\n",
      "Loading dataset from disk.\n",
      "TIMING: dataset construction took 0.003 s\n",
      "Loading dataset from disk.\n",
      "TIMING: dataset construction took 0.002 s\n",
      "Loading dataset from disk.\n",
      "TIMING: dataset construction took 0.002 s\n",
      "Loading dataset from disk.\n",
      "TIMING: dataset construction took 0.002 s\n",
      "Loading dataset from disk.\n",
      "TIMING: dataset construction took 0.002 s\n",
      "Loading dataset from disk.\n",
      "TIMING: dataset construction took 0.002 s\n",
      "Loading dataset from disk.\n",
      "TIMING: dataset construction took 0.002 s\n",
      "Loading dataset from disk.\n",
      "Processing shard 0\n",
      "\tTask Hepatobiliary disorders\n",
      "\tTask Metabolism and nutrition disorders\n",
      "\tTask Product issues\n",
      "\tTask Eye disorders\n",
      "\tTask Investigations\n",
      "\tTask Musculoskeletal and connective tissue disorders\n",
      "\tTask Gastrointestinal disorders\n",
      "\tTask Social circumstances\n",
      "\tTask Immune system disorders\n",
      "\tTask Reproductive system and breast disorders\n",
      "\tTask Neoplasms benign, malignant and unspecified (incl cysts and polyps)\n",
      "\tTask General disorders and administration site conditions\n",
      "\tTask Endocrine disorders\n",
      "\tTask Surgical and medical procedures\n",
      "\tTask Vascular disorders\n",
      "\tTask Blood and lymphatic system disorders\n",
      "\tTask Skin and subcutaneous tissue disorders\n",
      "\tTask Congenital, familial and genetic disorders\n",
      "\tTask Infections and infestations\n",
      "\tTask Respiratory, thoracic and mediastinal disorders\n",
      "\tTask Psychiatric disorders\n",
      "\tTask Renal and urinary disorders\n",
      "\tTask Pregnancy, puerperium and perinatal conditions\n",
      "\tTask Ear and labyrinth disorders\n",
      "\tTask Cardiac disorders\n",
      "\tTask Nervous system disorders\n",
      "\tTask Injury, poisoning and procedural complications\n",
      "Dataset for task Hepatobiliary disorders has shape ((1141, 1024), (1141, 1), (1141, 1), (1141,))\n",
      "Dataset for task Metabolism and nutrition disorders has shape ((1141, 1024), (1141, 1), (1141, 1), (1141,))\n",
      "Dataset for task Product issues has shape ((1141, 1024), (1141, 1), (1141, 1), (1141,))\n",
      "Dataset for task Eye disorders has shape ((1141, 1024), (1141, 1), (1141, 1), (1141,))\n",
      "Dataset for task Investigations has shape ((1141, 1024), (1141, 1), (1141, 1), (1141,))\n",
      "Dataset for task Musculoskeletal and connective tissue disorders has shape ((1141, 1024), (1141, 1), (1141, 1), (1141,))\n",
      "Dataset for task Gastrointestinal disorders has shape ((1141, 1024), (1141, 1), (1141, 1), (1141,))\n",
      "Dataset for task Social circumstances has shape ((1141, 1024), (1141, 1), (1141, 1), (1141,))\n",
      "Dataset for task Immune system disorders has shape ((1141, 1024), (1141, 1), (1141, 1), (1141,))\n",
      "Dataset for task Reproductive system and breast disorders has shape ((1141, 1024), (1141, 1), (1141, 1), (1141,))\n",
      "Dataset for task Neoplasms benign, malignant and unspecified (incl cysts and polyps) has shape ((1141, 1024), (1141, 1), (1141, 1), (1141,))\n",
      "Dataset for task General disorders and administration site conditions has shape ((1141, 1024), (1141, 1), (1141, 1), (1141,))\n",
      "Dataset for task Endocrine disorders has shape ((1141, 1024), (1141, 1), (1141, 1), (1141,))\n",
      "Dataset for task Surgical and medical procedures has shape ((1141, 1024), (1141, 1), (1141, 1), (1141,))\n",
      "Dataset for task Vascular disorders has shape ((1141, 1024), (1141, 1), (1141, 1), (1141,))\n",
      "Dataset for task Blood and lymphatic system disorders has shape ((1141, 1024), (1141, 1), (1141, 1), (1141,))\n",
      "Dataset for task Skin and subcutaneous tissue disorders has shape ((1141, 1024), (1141, 1), (1141, 1), (1141,))\n",
      "Dataset for task Congenital, familial and genetic disorders has shape ((1141, 1024), (1141, 1), (1141, 1), (1141,))\n",
      "Dataset for task Infections and infestations has shape ((1141, 1024), (1141, 1), (1141, 1), (1141,))\n",
      "Dataset for task Respiratory, thoracic and mediastinal disorders has shape ((1141, 1024), (1141, 1), (1141, 1), (1141,))\n",
      "Dataset for task Psychiatric disorders has shape ((1141, 1024), (1141, 1), (1141, 1), (1141,))\n",
      "Dataset for task Renal and urinary disorders has shape ((1141, 1024), (1141, 1), (1141, 1), (1141,))\n",
      "Dataset for task Pregnancy, puerperium and perinatal conditions has shape ((1141, 1024), (1141, 1), (1141, 1), (1141,))\n",
      "Dataset for task Ear and labyrinth disorders has shape ((1141, 1024), (1141, 1), (1141, 1), (1141,))\n",
      "Dataset for task Cardiac disorders has shape ((1141, 1024), (1141, 1), (1141, 1), (1141,))\n",
      "Dataset for task Nervous system disorders has shape ((1141, 1024), (1141, 1), (1141, 1), (1141,))\n",
      "Dataset for task Injury, poisoning and procedural complications has shape ((1141, 1024), (1141, 1), (1141, 1), (1141,))\n",
      "Fitting model for task Hepatobiliary disorders\n",
      "Fitting model for task Metabolism and nutrition disorders\n",
      "Fitting model for task Product issues\n",
      "Fitting model for task Eye disorders\n",
      "Fitting model for task Investigations\n",
      "Fitting model for task Musculoskeletal and connective tissue disorders\n",
      "Fitting model for task Gastrointestinal disorders\n",
      "Fitting model for task Social circumstances\n",
      "Fitting model for task Immune system disorders\n",
      "Fitting model for task Reproductive system and breast disorders\n",
      "Fitting model for task Neoplasms benign, malignant and unspecified (incl cysts and polyps)\n"
     ]
    },
    {
     "name": "stdout",
     "output_type": "stream",
     "text": [
      "Fitting model for task General disorders and administration site conditions\n",
      "Fitting model for task Endocrine disorders\n",
      "Fitting model for task Surgical and medical procedures\n",
      "Fitting model for task Vascular disorders\n",
      "Fitting model for task Blood and lymphatic system disorders\n",
      "Fitting model for task Skin and subcutaneous tissue disorders\n",
      "Fitting model for task Congenital, familial and genetic disorders\n",
      "Fitting model for task Infections and infestations\n",
      "Fitting model for task Respiratory, thoracic and mediastinal disorders\n",
      "Fitting model for task Psychiatric disorders\n",
      "Fitting model for task Renal and urinary disorders\n",
      "Fitting model for task Pregnancy, puerperium and perinatal conditions\n",
      "Fitting model for task Ear and labyrinth disorders\n",
      "Fitting model for task Cardiac disorders\n",
      "Fitting model for task Nervous system disorders\n",
      "Fitting model for task Injury, poisoning and procedural complications\n",
      "About to evaluate model\n",
      "computed_metrics: [0.9999984637034578, 1.0, 1.0, 1.0, 0.9998841957989071, 1.0, 1.0, 1.0, 1.0, 1.0, 1.0, 1.0, 1.0, 0.9999999999999999, 1.0, 0.9999951529721975, 0.9998804290887557, 1.0, 1.0, 0.9997352854538362, 0.999905059049548, 1.0, 1.0, 0.9999984567329655, 0.9999784969358134, 1.0, 0.9999709429524695]\n",
      "computed_metrics: [0.7554794520547945, 0.5919767441860464, 0.6866197183098592, 0.7500981932443048, 0.7194494857834242, 0.7452046035805626, 0.6326400679117148, 0.6613448534936138, 0.7135341941654711, 0.8486816214088941, 0.6730990783410138, 0.5656504065040651, 0.5985360360360361, 0.5915354330708661, 0.6782766990291262, 0.7338842975206612, 0.8065088757396449, 0.5330578512396694, 0.6786021505376345, 0.6647243388614972, 0.6482712765957447, 0.6952479338842975, 0.5850550964187329, 0.7078512396694215, 0.7598834789846025, 0.7366298811544991, 0.6432676518883415]\n",
      "computed_metrics: [0.8034894398530763, 0.6965838509316771, 0.5780141843971631, 0.7002325581395349, 0.7475083056478404, 0.7073664328116567, 0.7983460559796438, 0.6660426267281105, 0.5878306878306878, 0.7407630522088353, 0.6684210526315789, 0.4210144927536231, 0.7007936507936509, 0.5979703356752537, 0.7117886178861789, 0.7556976744186047, 0.6204142011834319, 0.7131821170282708, 0.7292035398230089, 0.6248188405797102, 0.7225506756756757, 0.7259302325581396, 0.6575520833333334, 0.6796752738654148, 0.7225663716814159, 0.887741046831956, 0.6547248182762201]\n",
      "Train scores\n",
      "{'mean-roc_auc_score': 0.9999757956551092}\n",
      "Validation scores\n",
      "{'mean-roc_auc_score': 0.6816707651709087}\n",
      "Test scores\n",
      "{'mean-roc_auc_score': 0.6896378599823592}\n"
     ]
    }
   ],
   "source": [
    "\"\"\"\n",
    "Script that trains Sklearn multitask models on the sider dataset\n",
    "@Author Bharath Ramsundar, Aneesh Pappu\n",
    "\"\"\"\n",
    "from sklearn.ensemble import RandomForestClassifier\n",
    "\n",
    "metric = dc.metrics.Metric(dc.metrics.roc_auc_score, np.mean,\n",
    "                           mode=\"classification\")\n",
    "\n",
    "def model_builder(model_dir):\n",
    "    sklearn_model = RandomForestClassifier(class_weight=\"balanced\", n_estimators=100)\n",
    "    return dc.models.SklearnModel(sklearn_model, model_dir)\n",
    "\n",
    "model = dc.models.SingletaskToMultitask(sider_tasks, model_builder)\n",
    "\n",
    "# Fit trained model\n",
    "model.fit(train_dataset)\n",
    "model.save()\n",
    "\n",
    "print(\"About to evaluate model\")\n",
    "train_scores = model.evaluate(train_dataset, [metric], transformers)\n",
    "valid_scores = model.evaluate(valid_dataset, [metric], transformers)\n",
    "test_scores = model.evaluate(test_dataset, [metric], transformers)\n",
    "\n",
    "print(\"Train scores\")\n",
    "print(train_scores)\n",
    "\n",
    "print(\"Validation scores\")\n",
    "print(valid_scores)\n",
    "\n",
    "print(\"Test scores\")\n",
    "print(test_scores)"
   ]
  },
  {
   "cell_type": "markdown",
   "metadata": {},
   "source": [
    "# Results"
   ]
  },
  {
   "cell_type": "code",
   "execution_count": 881,
   "metadata": {},
   "outputs": [],
   "source": [
    "#seed = 100, 98, 97, 95, 94\n",
    "\n",
    "knn_fp_auc = [ 0.6489, 0.6079, 0.6403, 0.5954, 0.6458]\n",
    "knn_lor_auc = [0.6765, 0.6718, 0.6710, 0.6691, 0.6919]\n",
    "#knn_euc_auc = [0.6808, 0.6881, 0.6857, 0.6804, 0.7213]\n",
    "rf_fp_auc = [0.6826, 0.6685, 0.6665, 0.6783, 0.6956]\n",
    "rf_lor_auc = [0.7116, 0.7150, 0.6839, 0.6921, 0.6962]\n",
    "#rf_euc_auc = [0.7141, 0.7098, 0.6814, 0.6788, 0.7184]"
   ]
  },
  {
   "cell_type": "code",
   "execution_count": 879,
   "metadata": {},
   "outputs": [
    {
     "data": {
      "text/plain": [
       "0.66912"
      ]
     },
     "execution_count": 879,
     "metadata": {},
     "output_type": "execute_result"
    }
   ],
   "source": [
    "np.array(rf_fp_auc).mean()"
   ]
  },
  {
   "cell_type": "code",
   "execution_count": 880,
   "metadata": {},
   "outputs": [
    {
     "data": {
      "text/plain": [
       "0.6978"
      ]
     },
     "execution_count": 880,
     "metadata": {},
     "output_type": "execute_result"
    }
   ],
   "source": [
    "np.array(rf_lor_auc).mean()"
   ]
  },
  {
   "cell_type": "code",
   "execution_count": 882,
   "metadata": {},
   "outputs": [
    {
     "data": {
      "text/plain": [
       "0.7004999999999999"
      ]
     },
     "execution_count": 882,
     "metadata": {},
     "output_type": "execute_result"
    }
   ],
   "source": [
    "np.array(rf_euc_auc).mean()"
   ]
  },
  {
   "cell_type": "code",
   "execution_count": 888,
   "metadata": {},
   "outputs": [
    {
     "data": {
      "text/plain": [
       "0.69976"
      ]
     },
     "execution_count": 888,
     "metadata": {},
     "output_type": "execute_result"
    }
   ],
   "source": [
    "np.array(rf_lor_auc).mean()"
   ]
  },
  {
   "cell_type": "code",
   "execution_count": 889,
   "metadata": {},
   "outputs": [
    {
     "data": {
      "text/plain": [
       "0.011792641773580675"
      ]
     },
     "execution_count": 889,
     "metadata": {},
     "output_type": "execute_result"
    }
   ],
   "source": [
    "np.array(rf_lor_auc).std()"
   ]
  },
  {
   "cell_type": "markdown",
   "metadata": {},
   "source": [
    "# Plots"
   ]
  },
  {
   "cell_type": "code",
   "execution_count": 2,
   "metadata": {},
   "outputs": [],
   "source": [
    "import matplotlib.pyplot as plt"
   ]
  },
  {
   "cell_type": "code",
   "execution_count": 16,
   "metadata": {},
   "outputs": [],
   "source": [
    "#models = ['KNN FP', 'KNN LE', 'RF FP', 'RF LE', 'NN FP', 'GC FP', 'Weave FP']\n",
    "#roc_mean = [0.628, 0.676, 0.684, 0.700, 0.666, 0.638, 0.581]\n",
    "#roc_std = [0.022, 0.008, 0.009, 0.012, 0.026, 0.012, 0.027]\n",
    "#colors = ['purple','pink','orange','yellowgreen','olive','aqua','beige']"
   ]
  },
  {
   "cell_type": "code",
   "execution_count": 18,
   "metadata": {},
   "outputs": [],
   "source": [
    "models = ['RF LE', 'KNN LE', 'RF FP', 'NN FP', 'KNN FP', 'GC FP', 'Weave FP']\n",
    "colors = ['purple','pink','orange','yellowgreen','olive','aqua','beige']\n",
    "roc_mean = [0.700, 0.676, 0.684, 0.666, 0.628, 0.638, 0.581]\n",
    "roc_std = [ 0.012, 0.008, 0.009, 0.026, 0.022, 0.012, 0.027]"
   ]
  },
  {
   "cell_type": "code",
   "execution_count": 21,
   "metadata": {},
   "outputs": [
    {
     "data": {
      "image/png": "[encoded data removed]",
      "text/plain": [
       "<Figure size 2400x1500 with 1 Axes>"
      ]
     },
     "metadata": {
      "needs_background": "light"
     },
     "output_type": "display_data"
    }
   ],
   "source": [
    "plt.figure(figsize=(8,5), dpi=300)\n",
    "plt.barh(models, roc_mean, xerr=roc_std, color=colors)\n",
    "plt.xlim([0.4, 0.75])\n",
    "plt.xlabel('AUC-ROC')\n",
    "plt.title('SIDER')\n",
    "plt.show()"
   ]
  },
  {
   "cell_type": "code",
   "execution_count": null,
   "metadata": {},
   "outputs": [],
   "source": []
  }
 ],
 "metadata": {
  "kernelspec": {
   "display_name": "MolEnv3",
   "language": "python",
   "name": "molenv3"
  },
  "language_info": {
   "codemirror_mode": {
    "name": "ipython",
    "version": 3
   },
   "file_extension": ".py",
   "mimetype": "text/x-python",
   "name": "python",
   "nbconvert_exporter": "python",
   "pygments_lexer": "ipython3",
   "version": "3.6.4"
  },
  "toc": {
   "base_numbering": 1,
   "nav_menu": {},
   "number_sections": true,
   "sideBar": true,
   "skip_h1_title": false,
   "title_cell": "Table of Contents",
   "title_sidebar": "Contents",
   "toc_cell": false,
   "toc_position": {
    "height": "calc(100% - 180px)",
    "left": "10px",
    "top": "150px",
    "width": "455px"
   },
   "toc_section_display": true,
   "toc_window_display": true
  },
  "varInspector": {
   "cols": {
    "lenName": 16,
    "lenType": 16,
    "lenVar": 40
   },
   "kernels_config": {
    "python": {
     "delete_cmd_postfix": "",
     "delete_cmd_prefix": "del ",
     "library": "var_list.py",
     "varRefreshCmd": "print(var_dic_list())"
    },
    "r": {
     "delete_cmd_postfix": ") ",
     "delete_cmd_prefix": "rm(",
     "library": "var_list.r",
     "varRefreshCmd": "cat(var_dic_list()) "
    }
   },
   "types_to_exclude": [
    "module",
    "function",
    "builtin_function_or_method",
    "instance",
    "_Feature"
   ],
   "window_display": false
  }
 },
 "nbformat": 4,
 "nbformat_minor": 2
}
