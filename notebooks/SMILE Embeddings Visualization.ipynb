{
 "cells": [
  {
   "cell_type": "code",
   "execution_count": 16,
   "metadata": {},
   "outputs": [],
   "source": [
    "import pickle\n",
    "import umap\n",
    "from sklearn.datasets import load_iris, load_digits"
   ]
  },
  {
   "cell_type": "markdown",
   "metadata": {},
   "source": [
    "### Load latent representations for drugs"
   ]
  },
  {
   "cell_type": "code",
   "execution_count": 3,
   "metadata": {},
   "outputs": [],
   "source": [
    "pickle_in = open(\"/Users/keyu/Documents/MolEmbedding/experiments/exp_gpu_250K_4/checkpoint_epoch100.modelembeddings_output.pickle\",\"rb\")\n",
    "drugs_dict = pickle.load(pickle_in)"
   ]
  },
  {
   "cell_type": "code",
   "execution_count": 39,
   "metadata": {},
   "outputs": [
    {
     "data": {
      "text/plain": [
       "['CC(C)Cc1ccc(C(C)C(=O)O)cc1', 'CC(C)Cc1ccc(C(=O)NCCCO)cc1']"
      ]
     },
     "execution_count": 39,
     "metadata": {},
     "output_type": "execute_result"
    }
   ],
   "source": [
    "# SMILE & Reconstructed SMILE from the mean of posterior ditribution P(Z|X)\n",
    "drugs_dict['Ibuprofen'][:2]"
   ]
  },
  {
   "cell_type": "code",
   "execution_count": 41,
   "metadata": {},
   "outputs": [
    {
     "data": {
      "text/plain": [
       "(196,)"
      ]
     },
     "execution_count": 41,
     "metadata": {},
     "output_type": "execute_result"
    }
   ],
   "source": [
    "# Latent representation of a drug is a vector of 196 dimensions\n",
    "drugs_dict['Ibuprofen'][2].shape"
   ]
  },
  {
   "cell_type": "code",
   "execution_count": 78,
   "metadata": {},
   "outputs": [],
   "source": [
    "# Combine drugs latent representations into a matrix\n",
    "drug_lst=[]\n",
    "smile_lst=[]\n",
    "gen_smile_lst=[]\n",
    "latent_lst=[]\n",
    "text_lst=[]\n",
    "for key in drugs_dict.keys():\n",
    "    h = drugs_dict[key][2].tolist()\n",
    "    latent_lst.append(h)\n",
    "    drug_lst.append(key)\n",
    "    smile_lst.append(drugs_dict[key][0])\n",
    "    gen_smile_lst.append(drugs_dict[key][1])\n",
    "    text_lst.append(key+'<br>'+drugs_dict[key][0]+'<br>'+drugs_dict[key][1])\n",
    "latent_reps = np.asarray(latent_lst)"
   ]
  },
  {
   "cell_type": "code",
   "execution_count": 79,
   "metadata": {},
   "outputs": [
    {
     "data": {
      "text/plain": [
       "(1365, 196)"
      ]
     },
     "execution_count": 79,
     "metadata": {},
     "output_type": "execute_result"
    }
   ],
   "source": [
    "#1365 active ingredients, each has 196 dimensions\n",
    "latent_reps.shape"
   ]
  },
  {
   "cell_type": "code",
   "execution_count": 80,
   "metadata": {},
   "outputs": [
    {
     "data": {
      "text/plain": [
       "'Abacavir<br>Nc1nc(NC2CC2)c2ncn([C@H]3C=C[C@@H](CO)C3)c2n1<br>Cc1nc(C)c(C(=O)Nc2ccc([N+](=O)[O-])cc2Cl)s1'"
      ]
     },
     "execution_count": 80,
     "metadata": {},
     "output_type": "execute_result"
    }
   ],
   "source": [
    "text_lst[0]"
   ]
  },
  {
   "cell_type": "markdown",
   "metadata": {},
   "source": [
    "### UMap dimensionality reduction"
   ]
  },
  {
   "cell_type": "code",
   "execution_count": 81,
   "metadata": {},
   "outputs": [
    {
     "data": {
      "text/plain": [
       "(1365, 2)"
      ]
     },
     "execution_count": 81,
     "metadata": {},
     "output_type": "execute_result"
    }
   ],
   "source": [
    "reducer = umap.UMAP()\n",
    "embedding = reducer.fit_transform(latent_reps)\n",
    "embedding.shape"
   ]
  },
  {
   "cell_type": "markdown",
   "metadata": {},
   "source": [
    "### Interactive scatter plots"
   ]
  },
  {
   "cell_type": "code",
   "execution_count": 82,
   "metadata": {},
   "outputs": [],
   "source": [
    "import plotly\n",
    "import plotly.plotly as py\n",
    "import plotly.graph_objs as go\n",
    "plotly.tools.set_credentials_file(username='gatechke',api_key='Zi2EdTuEULTZCRwNQQ8C')"
   ]
  },
  {
   "cell_type": "code",
   "execution_count": 83,
   "metadata": {},
   "outputs": [
    {
     "name": "stderr",
     "output_type": "stream",
     "text": [
      "/Users/keyu/anaconda3/envs/py37/lib/python3.6/site-packages/IPython/core/display.py:689: UserWarning:\n",
      "\n",
      "Consider using IPython.display.IFrame instead\n",
      "\n"
     ]
    },
    {
     "data": {
      "text/html": [
       "<iframe id=\"igraph\" scrolling=\"no\" style=\"border:none;\" seamless=\"seamless\" src=\"https://plot.ly/~gatechke/25.embed\" height=\"525px\" width=\"100%\"></iframe>"
      ],
      "text/plain": [
       "<chart_studio.tools.PlotlyDisplay object>"
      ]
     },
     "execution_count": 83,
     "metadata": {},
     "output_type": "execute_result"
    }
   ],
   "source": [
    "trace = go.Scatter(\n",
    "    x = embedding[:,0],\n",
    "    y = embedding[:,1],\n",
    "    mode = 'markers',\n",
    "    text = text_lst\n",
    ")\n",
    "\n",
    "data = [trace]\n",
    "\n",
    "py.iplot(data,filename='Styled-scatter')"
   ]
  }
 ],
 "metadata": {
  "kernelspec": {
   "display_name": "Python 3",
   "language": "python",
   "name": "python3"
  },
  "language_info": {
   "codemirror_mode": {
    "name": "ipython",
    "version": 3
   },
   "file_extension": ".py",
   "mimetype": "text/x-python",
   "name": "python",
   "nbconvert_exporter": "python",
   "pygments_lexer": "ipython3",
   "version": "3.6.8"
  }
 },
 "nbformat": 4,
 "nbformat_minor": 2
}
