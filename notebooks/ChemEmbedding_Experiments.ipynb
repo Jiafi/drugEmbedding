{
 "cells": [
  {
   "cell_type": "markdown",
   "metadata": {},
   "source": [
    "## Load Data"
   ]
  },
  {
   "cell_type": "code",
   "execution_count": 21,
   "metadata": {},
   "outputs": [],
   "source": [
    "import os\n",
    "import numpy as np\n",
    "import pandas as pd\n",
    "import random\n",
    "import json\n",
    "from rdkit import Chem\n",
    "\n",
    "from matplotlib import pyplot as plt\n",
    "plt.rcParams[\"figure.figsize\"] = [16,9]\n",
    "\n",
    "from tqdm import tqdm\n",
    "\n",
    "import torch"
   ]
  },
  {
   "cell_type": "code",
   "execution_count": 22,
   "metadata": {},
   "outputs": [],
   "source": [
    "#create two dims lists: 1st dim SMILES, 2nd dim chars in SMILES\n",
    "max_sequence_length = 120\n",
    "data_dir = './data/'\n",
    "train_file = 'smiles_train.smi'\n",
    "dataset_raw_file = os.path.join(data_dir, train_file)\n",
    "smiles_lst = []\n",
    "with open(dataset_raw_file, 'r') as file:\n",
    "    for seq in file.readlines():\n",
    "        words = list(seq)[:-1]\n",
    "        smiles_lst.append(''.join(words))\n",
    "file.close()\n",
    "smiles_train = smiles_lst"
   ]
  },
  {
   "cell_type": "code",
   "execution_count": 23,
   "metadata": {},
   "outputs": [],
   "source": [
    "#create SMILES target list (all 250K SMILES)\n",
    "data_dir = './data/'\n",
    "target_file = '250k_rndm_zinc_drugs_clean.smi'\n",
    "dataset_raw_file = os.path.join(data_dir, target_file)\n",
    "smiles_lst = []\n",
    "with open(dataset_raw_file, 'r') as file:\n",
    "    for seq in file.readlines():\n",
    "        words = list(seq)[:-1]\n",
    "        smiles_lst.append(''.join(words))\n",
    "file.close()\n",
    "smiles_target = smiles_lst"
   ]
  },
  {
   "cell_type": "code",
   "execution_count": 24,
   "metadata": {},
   "outputs": [],
   "source": [
    "#create two dims lists: 1st dim SMILES, 2nd dim chars in SMILES\n",
    "max_sequence_length = 120\n",
    "data_dir = './data/'\n",
    "train_file = 'smiles_train.smi'\n",
    "dataset_raw_file = os.path.join(data_dir, train_file)\n",
    "smiles_lst = []\n",
    "with open(dataset_raw_file, 'r') as file:\n",
    "    for seq in file.readlines():\n",
    "        seq = seq + '?' * (max_sequence_length - len(seq))\n",
    "        words = list(seq)\n",
    "        smiles_lst.append(words)\n",
    "file.close()"
   ]
  },
  {
   "cell_type": "code",
   "execution_count": 25,
   "metadata": {},
   "outputs": [
    {
     "name": "stdout",
     "output_type": "stream",
     "text": [
      "CC(C)(C)c1ccc2occ(CC(=O)Nc3ccccc3F)c2c1\n",
      "????????????????????????????????????????????????????????????????????????????????\n"
     ]
    }
   ],
   "source": [
    "#print the first SMILES, using '?' as padding char\n",
    "print(''.join(smiles_lst[0]))"
   ]
  },
  {
   "cell_type": "code",
   "execution_count": 26,
   "metadata": {},
   "outputs": [
    {
     "name": "stdout",
     "output_type": "stream",
     "text": [
      "['C', 'C', '(', 'C', ')', '(', 'C', ')', 'c', '1', 'c', 'c', 'c', '2', 'o', 'c', 'c', '(', 'C', 'C', '(', '=', 'O', ')', 'N', 'c', '3', 'c', 'c', 'c', 'c', 'c', '3', 'F', ')', 'c', '2', 'c', '1', '\\n', '?', '?', '?', '?', '?', '?', '?', '?', '?', '?', '?', '?', '?', '?', '?', '?', '?', '?', '?', '?', '?', '?', '?', '?', '?', '?', '?', '?', '?', '?', '?', '?', '?', '?', '?', '?', '?', '?', '?', '?', '?', '?', '?', '?', '?', '?', '?', '?', '?', '?', '?', '?', '?', '?', '?', '?', '?', '?', '?', '?', '?', '?', '?', '?', '?', '?', '?', '?', '?', '?', '?', '?', '?', '?', '?', '?', '?', '?', '?', '?']\n"
     ]
    }
   ],
   "source": [
    "#print chars in the first SMILES\n",
    "print(smiles_lst[0])"
   ]
  },
  {
   "cell_type": "code",
   "execution_count": 27,
   "metadata": {},
   "outputs": [],
   "source": [
    "#create a 2D array\n",
    "smiles_array = np.array(smiles_lst)"
   ]
  },
  {
   "cell_type": "markdown",
   "metadata": {},
   "source": [
    "## Naive Sampler (1-gram, random sampling)"
   ]
  },
  {
   "cell_type": "markdown",
   "metadata": {},
   "source": [
    "Build a naive sampler that samples chars at each position using their marginal distributions. Stop when encounter '\\n'"
   ]
  },
  {
   "cell_type": "code",
   "execution_count": 28,
   "metadata": {},
   "outputs": [],
   "source": [
    "def naive_sampler(smiles_array):\n",
    "    \n",
    "    n_row, n_col = smiles_array.shape\n",
    "    char = '?'\n",
    "    \n",
    "    i_col = 0\n",
    "    sample_smile = []\n",
    "    while (i_col < n_col and char != '\\n'):\n",
    "        \n",
    "        sample_array = smiles_array[:,i_col] #select the ith column of SMILES array\n",
    "        pad_idx = sample_array == '?' #remove paddings\n",
    "        sample_array = sample_array[~pad_idx] #remove paddings\n",
    "        char = np.random.choice(sample_array,size=1)[0] #randomly sample a char from the marginal dist of ith position \n",
    "        sample_smile.append(char)\n",
    "        \n",
    "        i_col +=1  \n",
    "        \n",
    "    return sample_smile"
   ]
  },
  {
   "cell_type": "code",
   "execution_count": 29,
   "metadata": {},
   "outputs": [
    {
     "name": "stdout",
     "output_type": "stream",
     "text": [
      "COCCScc]CCcH)CC=C)(HNC(N1C=[=(cnnC2O4C2C=C2OC2@OF)\n",
      "\n",
      "['C', 'O', 'C', 'C', 'S', 'c', 'c', ']', 'C', 'C', 'c', 'H', ')', 'C', 'C', '=', 'C', ')', '(', 'H', 'N', 'C', '(', 'N', '1', 'C', '=', '[', '=', '(', 'c', 'n', 'n', 'C', '2', 'O', '4', 'C', '2', 'C', '=', 'C', '2', 'O', 'C', '2', '@', 'O', 'F', ')', '\\n']\n"
     ]
    }
   ],
   "source": [
    "sample_smile = naive_sampler(smiles_array)\n",
    "print(\"\".join(sample_smile))\n",
    "print(sample_smile)"
   ]
  },
  {
   "cell_type": "markdown",
   "metadata": {},
   "source": [
    "generate 1000 random samples"
   ]
  },
  {
   "cell_type": "code",
   "execution_count": 30,
   "metadata": {},
   "outputs": [],
   "source": [
    "naive_sample_smiles = []\n",
    "n_sample = 1000\n",
    "for i in range(n_sample):\n",
    "    sample_smile = naive_sampler(smiles_array)\n",
    "    sample_smile_string = ''.join(sample_smile[:-1])\n",
    "    naive_sample_smiles.append(sample_smile_string)"
   ]
  },
  {
   "cell_type": "markdown",
   "metadata": {},
   "source": [
    "## VAE Sampler ( z ~ prior, greedy sampling)"
   ]
  },
  {
   "cell_type": "code",
   "execution_count": 31,
   "metadata": {},
   "outputs": [],
   "source": [
    "def smile_generator(directory, vocab_file, model_file, nsample, max_sequence_length):\n",
    "\n",
    "    w2i, i2w = idx2word(directory, vocab_file)\n",
    "\n",
    "    eos_idx = w2i['<eos>']\n",
    "\n",
    "    model = torch.load(model_file)\n",
    "    model.eval()  # model.eval() will notify all your layers that you are in eval mode, that way, batchnorm or dropout layers will work in eval model instead of training mode.\n",
    "\n",
    "    samples_idx, z = model.inference(n=nsample)\n",
    "\n",
    "    smiles_lst = []\n",
    "    for i in range(nsample):\n",
    "        smiles = []\n",
    "        for j in range(max_sequence_length):\n",
    "            if samples_idx[i,j] == eos_idx:\n",
    "                break\n",
    "            smiles.append(i2w[samples_idx[i,j].item()])\n",
    "        smiles = \"\".join(smiles)\n",
    "        smiles_lst.append(smiles)\n",
    "    return smiles_lst, z\n",
    "    \n",
    "\n",
    "            \n",
    "def idx2word(directory, vocab_file):\n",
    "    w2i = dict()\n",
    "    i2w = dict()\n",
    "\n",
    "    # add special tokens to vocab\n",
    "    special_tokens = ['<pad>', '<unk>', '<sos>', '<eos>']\n",
    "    for st in special_tokens:\n",
    "        i2w[len(w2i)] = st\n",
    "        w2i[st] = len(w2i)\n",
    "\n",
    "    # load unique chars\n",
    "    char_list = json.load(open(os.path.join(directory, vocab_file)))\n",
    "    for i, c in enumerate(char_list):\n",
    "        i2w[len(w2i)] = c\n",
    "        w2i[c] = len(w2i)\n",
    "\n",
    "    return w2i, i2w\n"
   ]
  },
  {
   "cell_type": "code",
   "execution_count": 57,
   "metadata": {},
   "outputs": [],
   "source": [
    "data_dir = \"/Users/keyu/PycharmProjects/DrugEmbedding/data/\"\n",
    "vocab_file = \"zinc_char_list.json\"\n",
    "nsample = 1000\n",
    "max_sequence_length = 120\n",
    "vae_smiles_sample, z = smile_generator(data_dir, vocab_file, 'logistic_KL_annealing_mdl', nsample, max_sequence_length)\n"
   ]
  },
  {
   "cell_type": "markdown",
   "metadata": {},
   "source": [
    "### SMILES Frequency"
   ]
  },
  {
   "cell_type": "code",
   "execution_count": 58,
   "metadata": {},
   "outputs": [],
   "source": [
    "unique_vae_smiles = list(set(vae_smiles_sample))"
   ]
  },
  {
   "cell_type": "code",
   "execution_count": 59,
   "metadata": {},
   "outputs": [
    {
     "data": {
      "text/plain": [
       "367"
      ]
     },
     "execution_count": 59,
     "metadata": {},
     "output_type": "execute_result"
    }
   ],
   "source": [
    "len(unique_vae_smiles)"
   ]
  },
  {
   "cell_type": "code",
   "execution_count": 60,
   "metadata": {},
   "outputs": [],
   "source": [
    "smi_freq_lst = []\n",
    "for smi in unique_vae_smiles:\n",
    "    #count of duplicate smiles\n",
    "    smi_cnt = vae_smiles_sample.count(smi)\n",
    "    \n",
    "    #valid or invalide\n",
    "    if type(Chem.MolFromSmiles(smi)) is rdkit.Chem.rdchem.Mol:\n",
    "        smi_valid = 1\n",
    "    else:\n",
    "        smi_valid = 0\n",
    "    \n",
    "    #exist in training data or not?\n",
    "    if smi in smiles_train:\n",
    "        in_train = 1\n",
    "    else:\n",
    "        in_train = 0\n",
    "    \n",
    "    #exist in the whole dataset or not?\n",
    "    if smi in smiles_target:\n",
    "        in_target = 1\n",
    "    else:\n",
    "        in_target = 0\n",
    "        \n",
    "    smi_freq_lst.append([smi, smi_cnt, smi_valid, in_train, in_target])\n",
    "smi_freq_df = pd.DataFrame(smi_freq_lst,columns = ['VAE_SMILES','COUNT','VALID','IN_TRAIN','IN_TARGET'])"
   ]
  },
  {
   "cell_type": "code",
   "execution_count": 61,
   "metadata": {},
   "outputs": [
    {
     "data": {
      "text/html": [
       "<div>\n",
       "<style scoped>\n",
       "    .dataframe tbody tr th:only-of-type {\n",
       "        vertical-align: middle;\n",
       "    }\n",
       "\n",
       "    .dataframe tbody tr th {\n",
       "        vertical-align: top;\n",
       "    }\n",
       "\n",
       "    .dataframe thead th {\n",
       "        text-align: right;\n",
       "    }\n",
       "</style>\n",
       "<table border=\"1\" class=\"dataframe\">\n",
       "  <thead>\n",
       "    <tr style=\"text-align: right;\">\n",
       "      <th></th>\n",
       "      <th>VAE_SMILES</th>\n",
       "      <th>COUNT</th>\n",
       "      <th>VALID</th>\n",
       "      <th>IN_TRAIN</th>\n",
       "      <th>IN_TARGET</th>\n",
       "    </tr>\n",
       "  </thead>\n",
       "  <tbody>\n",
       "    <tr>\n",
       "      <th>362</th>\n",
       "      <td>C[C@H](CC(=O)c1ccc(Cl)cc1)C(=O)N1CCC[C@H](C(F)...</td>\n",
       "      <td>42</td>\n",
       "      <td>1</td>\n",
       "      <td>0</td>\n",
       "      <td>0</td>\n",
       "    </tr>\n",
       "    <tr>\n",
       "      <th>337</th>\n",
       "      <td>Cc1ccc(C(=O)N2CCC[C@@H](c3nnc(Cn4cccn4)n3C)C2)cc1</td>\n",
       "      <td>31</td>\n",
       "      <td>1</td>\n",
       "      <td>0</td>\n",
       "      <td>0</td>\n",
       "    </tr>\n",
       "    <tr>\n",
       "      <th>183</th>\n",
       "      <td>Cc1ccc(C(=O)N[C@H](C)c2ccc(Cl)s2)cc1</td>\n",
       "      <td>22</td>\n",
       "      <td>1</td>\n",
       "      <td>0</td>\n",
       "      <td>0</td>\n",
       "    </tr>\n",
       "    <tr>\n",
       "      <th>152</th>\n",
       "      <td>Cc1ccc(C(=O)N2CCC[C@H](C(=O)Nc3ccc(F)cc3)C2)cc1</td>\n",
       "      <td>22</td>\n",
       "      <td>1</td>\n",
       "      <td>0</td>\n",
       "      <td>0</td>\n",
       "    </tr>\n",
       "    <tr>\n",
       "      <th>29</th>\n",
       "      <td>COc1ccc(C)cc1NC(=O)C(=O)Nc1ccc(C(=O)NC(C)C)cc1</td>\n",
       "      <td>21</td>\n",
       "      <td>1</td>\n",
       "      <td>0</td>\n",
       "      <td>0</td>\n",
       "    </tr>\n",
       "    <tr>\n",
       "      <th>100</th>\n",
       "      <td>COc1ccc(C(=O)N[C@H](C)c2ccc(C)cc2)cc1OC</td>\n",
       "      <td>17</td>\n",
       "      <td>1</td>\n",
       "      <td>0</td>\n",
       "      <td>0</td>\n",
       "    </tr>\n",
       "    <tr>\n",
       "      <th>164</th>\n",
       "      <td>C[C@H](CC(=O)[O-])[C@H](C)NC(=O)C(=O)Nc1ccc(C(...</td>\n",
       "      <td>17</td>\n",
       "      <td>1</td>\n",
       "      <td>0</td>\n",
       "      <td>0</td>\n",
       "    </tr>\n",
       "    <tr>\n",
       "      <th>145</th>\n",
       "      <td>CC(C)(C)OC(=O)N1CCC[C@@H](C(=O)Nc2cccc(Cl)c2)C1</td>\n",
       "      <td>17</td>\n",
       "      <td>1</td>\n",
       "      <td>0</td>\n",
       "      <td>0</td>\n",
       "    </tr>\n",
       "    <tr>\n",
       "      <th>240</th>\n",
       "      <td>CC[C@H](C)[C@@H](C)NC(=O)C(=O)Nc1ccc(C(=O)NC(C...</td>\n",
       "      <td>17</td>\n",
       "      <td>1</td>\n",
       "      <td>0</td>\n",
       "      <td>0</td>\n",
       "    </tr>\n",
       "    <tr>\n",
       "      <th>295</th>\n",
       "      <td>COc1ccc([C@@H]2C(=O)Nc3ccccc3C2=O)cc1C(=O)N(C)C</td>\n",
       "      <td>16</td>\n",
       "      <td>1</td>\n",
       "      <td>0</td>\n",
       "      <td>0</td>\n",
       "    </tr>\n",
       "    <tr>\n",
       "      <th>79</th>\n",
       "      <td>CC(=O)Nc1ccc(C(=O)N[C@@H](C)c2ccccc2)cc1</td>\n",
       "      <td>16</td>\n",
       "      <td>1</td>\n",
       "      <td>0</td>\n",
       "      <td>0</td>\n",
       "    </tr>\n",
       "    <tr>\n",
       "      <th>123</th>\n",
       "      <td>CCOC(=O)c1ccc(CN2CC[NH+](Cc3ccccc3)CC2)cc1</td>\n",
       "      <td>14</td>\n",
       "      <td>1</td>\n",
       "      <td>0</td>\n",
       "      <td>0</td>\n",
       "    </tr>\n",
       "    <tr>\n",
       "      <th>48</th>\n",
       "      <td>CCC[C@@H](C)NC(=O)C(=O)Nc1ccc(C(=O)NC(C)C)cc1</td>\n",
       "      <td>13</td>\n",
       "      <td>1</td>\n",
       "      <td>0</td>\n",
       "      <td>0</td>\n",
       "    </tr>\n",
       "    <tr>\n",
       "      <th>344</th>\n",
       "      <td>COC(=O)c1ccc(CN2CC[NH+](Cc3ccccc3)CC2)cc1C</td>\n",
       "      <td>11</td>\n",
       "      <td>1</td>\n",
       "      <td>0</td>\n",
       "      <td>0</td>\n",
       "    </tr>\n",
       "    <tr>\n",
       "      <th>171</th>\n",
       "      <td>C[C@H](CCCO)Nc1ccc(C(=O)NC(C)C)cc1</td>\n",
       "      <td>10</td>\n",
       "      <td>1</td>\n",
       "      <td>0</td>\n",
       "      <td>0</td>\n",
       "    </tr>\n",
       "    <tr>\n",
       "      <th>293</th>\n",
       "      <td>CC1(C)CC[C@@H](CNC(=O)C2CCN(S(=O)(=O)c3ccc(C)c...</td>\n",
       "      <td>10</td>\n",
       "      <td>1</td>\n",
       "      <td>0</td>\n",
       "      <td>0</td>\n",
       "    </tr>\n",
       "    <tr>\n",
       "      <th>229</th>\n",
       "      <td>Cc1nn(C)cc1CNC(=O)NC[C@H]1CCC[C@H](C)C1</td>\n",
       "      <td>10</td>\n",
       "      <td>1</td>\n",
       "      <td>0</td>\n",
       "      <td>0</td>\n",
       "    </tr>\n",
       "    <tr>\n",
       "      <th>265</th>\n",
       "      <td>CC[C@@H](C)[C@@H](C)NC(=O)C(=O)Nc1ccc(C(=O)NC(...</td>\n",
       "      <td>10</td>\n",
       "      <td>1</td>\n",
       "      <td>0</td>\n",
       "      <td>0</td>\n",
       "    </tr>\n",
       "    <tr>\n",
       "      <th>294</th>\n",
       "      <td>CC(C)(C)OC(=O)c1ccc(C(=O)N[C@@H]2CCC[C@H](C)C2...</td>\n",
       "      <td>10</td>\n",
       "      <td>1</td>\n",
       "      <td>0</td>\n",
       "      <td>0</td>\n",
       "    </tr>\n",
       "    <tr>\n",
       "      <th>186</th>\n",
       "      <td>COc1ccc(C(=O)N2CCC[C@H](C(=O)Nc3ccc(F)cc3)C2)c...</td>\n",
       "      <td>10</td>\n",
       "      <td>1</td>\n",
       "      <td>0</td>\n",
       "      <td>0</td>\n",
       "    </tr>\n",
       "    <tr>\n",
       "      <th>107</th>\n",
       "      <td>Cc1ccc(C(=O)NCCC(=O)N2CCC[C@H](C(F)(F)F)C2)cc1</td>\n",
       "      <td>9</td>\n",
       "      <td>1</td>\n",
       "      <td>0</td>\n",
       "      <td>0</td>\n",
       "    </tr>\n",
       "    <tr>\n",
       "      <th>254</th>\n",
       "      <td>Cc1nn(C)c(C)c1C(=O)Nc1ccc(C(=O)N[C@H]2CCC[C@@H...</td>\n",
       "      <td>9</td>\n",
       "      <td>1</td>\n",
       "      <td>0</td>\n",
       "      <td>0</td>\n",
       "    </tr>\n",
       "    <tr>\n",
       "      <th>69</th>\n",
       "      <td>O=C(NC[C@H]1CCC[NH+](Cc2ccccc2)C1)N1CCN(S(=O)(...</td>\n",
       "      <td>9</td>\n",
       "      <td>1</td>\n",
       "      <td>0</td>\n",
       "      <td>0</td>\n",
       "    </tr>\n",
       "    <tr>\n",
       "      <th>298</th>\n",
       "      <td>CC(C)(C)OC(=O)N1CCC[C@@H](C(=O)Nc2cccc(C(F)(F)...</td>\n",
       "      <td>9</td>\n",
       "      <td>1</td>\n",
       "      <td>0</td>\n",
       "      <td>0</td>\n",
       "    </tr>\n",
       "    <tr>\n",
       "      <th>111</th>\n",
       "      <td>Cc1ccc(C(=O)N2CCC(C(=O)Nc3ccc(C(=O)[O-])cc3)cc...</td>\n",
       "      <td>9</td>\n",
       "      <td>1</td>\n",
       "      <td>0</td>\n",
       "      <td>0</td>\n",
       "    </tr>\n",
       "    <tr>\n",
       "      <th>300</th>\n",
       "      <td>COc1ccc(C(=O)N2CCC[C@H](c3nnc(C4CC4)o3)CC2=O)cc1</td>\n",
       "      <td>8</td>\n",
       "      <td>1</td>\n",
       "      <td>0</td>\n",
       "      <td>0</td>\n",
       "    </tr>\n",
       "    <tr>\n",
       "      <th>302</th>\n",
       "      <td>Cc1nn(C)c2ccccc2c1CC(=O)N1CCC[C@H](C(=O)Nc2ccc...</td>\n",
       "      <td>8</td>\n",
       "      <td>0</td>\n",
       "      <td>0</td>\n",
       "      <td>0</td>\n",
       "    </tr>\n",
       "    <tr>\n",
       "      <th>120</th>\n",
       "      <td>COc1ccc(C(=O)N[C@H](C)c2ccc(F)cc2)cc1OC</td>\n",
       "      <td>8</td>\n",
       "      <td>1</td>\n",
       "      <td>0</td>\n",
       "      <td>0</td>\n",
       "    </tr>\n",
       "    <tr>\n",
       "      <th>61</th>\n",
       "      <td>CCOC(=O)c1ccc(C(=O)N[C@@H]2CCC[C@@H](C(F)(F)F)...</td>\n",
       "      <td>7</td>\n",
       "      <td>1</td>\n",
       "      <td>0</td>\n",
       "      <td>0</td>\n",
       "    </tr>\n",
       "    <tr>\n",
       "      <th>243</th>\n",
       "      <td>COc1ccc([C@@H]2C(=O)Nc3ccccc3C2=O)cc1OC</td>\n",
       "      <td>7</td>\n",
       "      <td>1</td>\n",
       "      <td>0</td>\n",
       "      <td>0</td>\n",
       "    </tr>\n",
       "    <tr>\n",
       "      <th>...</th>\n",
       "      <td>...</td>\n",
       "      <td>...</td>\n",
       "      <td>...</td>\n",
       "      <td>...</td>\n",
       "      <td>...</td>\n",
       "    </tr>\n",
       "    <tr>\n",
       "      <th>136</th>\n",
       "      <td>O=C(Nc1cccc(Oc2ccccc2)c1)N1CCN(Cc2ccc(F)cc2)CC1</td>\n",
       "      <td>1</td>\n",
       "      <td>1</td>\n",
       "      <td>0</td>\n",
       "      <td>0</td>\n",
       "    </tr>\n",
       "    <tr>\n",
       "      <th>133</th>\n",
       "      <td>C#CCOCC(=O)N1CCC[C@@H](C(=O)Nc2cccc(Cl)c2)C1</td>\n",
       "      <td>1</td>\n",
       "      <td>1</td>\n",
       "      <td>0</td>\n",
       "      <td>0</td>\n",
       "    </tr>\n",
       "    <tr>\n",
       "      <th>132</th>\n",
       "      <td>c1ccc([C@@H]2C[C@@H]3CC[C@@H]2C3)c(-c2ccccc2)n1</td>\n",
       "      <td>1</td>\n",
       "      <td>1</td>\n",
       "      <td>0</td>\n",
       "      <td>0</td>\n",
       "    </tr>\n",
       "    <tr>\n",
       "      <th>130</th>\n",
       "      <td>COC[C@H](C)NC(=O)C(=O)Nc1ccc(C(=O)NC)cc1</td>\n",
       "      <td>1</td>\n",
       "      <td>1</td>\n",
       "      <td>0</td>\n",
       "      <td>0</td>\n",
       "    </tr>\n",
       "    <tr>\n",
       "      <th>128</th>\n",
       "      <td>CC[C@@H](C)[C@@H](NC(=O)c1ccc(Cl)cc1)c1nc(C)c2...</td>\n",
       "      <td>1</td>\n",
       "      <td>1</td>\n",
       "      <td>0</td>\n",
       "      <td>0</td>\n",
       "    </tr>\n",
       "    <tr>\n",
       "      <th>166</th>\n",
       "      <td>Cc1cccc(C(=O)N2CCC[C@H](C(=O)Nc3ccc(C(C)C)cc3)...</td>\n",
       "      <td>1</td>\n",
       "      <td>1</td>\n",
       "      <td>0</td>\n",
       "      <td>0</td>\n",
       "    </tr>\n",
       "    <tr>\n",
       "      <th>127</th>\n",
       "      <td>Cc1cc(C)c2c(c1)CC[C@H](NC(=O)COc1cccc(Cl)c1)CC...</td>\n",
       "      <td>1</td>\n",
       "      <td>1</td>\n",
       "      <td>0</td>\n",
       "      <td>0</td>\n",
       "    </tr>\n",
       "    <tr>\n",
       "      <th>124</th>\n",
       "      <td>COC(=O)c1ccc(CN2CC[NH+](CCO)CC2)cc1C</td>\n",
       "      <td>1</td>\n",
       "      <td>1</td>\n",
       "      <td>0</td>\n",
       "      <td>0</td>\n",
       "    </tr>\n",
       "    <tr>\n",
       "      <th>121</th>\n",
       "      <td>Cc1nc(C)c(C)c1CNC(=O)N[C@H]1CCC[C@@H](C)C1</td>\n",
       "      <td>1</td>\n",
       "      <td>0</td>\n",
       "      <td>0</td>\n",
       "      <td>0</td>\n",
       "    </tr>\n",
       "    <tr>\n",
       "      <th>119</th>\n",
       "      <td>O=S(=O)([N-]c1cccc(S(=O)(=O)N2CCCCC2)c1)c1ccc(...</td>\n",
       "      <td>1</td>\n",
       "      <td>1</td>\n",
       "      <td>0</td>\n",
       "      <td>0</td>\n",
       "    </tr>\n",
       "    <tr>\n",
       "      <th>118</th>\n",
       "      <td>CC1(C)CC[C@@H](CNC(=O)C(=O)Nc2ccccc2Cl)C1</td>\n",
       "      <td>1</td>\n",
       "      <td>1</td>\n",
       "      <td>0</td>\n",
       "      <td>0</td>\n",
       "    </tr>\n",
       "    <tr>\n",
       "      <th>117</th>\n",
       "      <td>CCN(CC)C(=O)CC(=O)N1CCC[C@H](C(=O)NC2CC2)C1</td>\n",
       "      <td>1</td>\n",
       "      <td>1</td>\n",
       "      <td>0</td>\n",
       "      <td>0</td>\n",
       "    </tr>\n",
       "    <tr>\n",
       "      <th>139</th>\n",
       "      <td>CCc1ccc(C(=O)N[C@H](C)c2ccc(Cl)s2)cc1</td>\n",
       "      <td>1</td>\n",
       "      <td>1</td>\n",
       "      <td>0</td>\n",
       "      <td>0</td>\n",
       "    </tr>\n",
       "    <tr>\n",
       "      <th>140</th>\n",
       "      <td>CCCN(CC)C(=O)CN1CCN(C(=O)c2cccs2)CC1</td>\n",
       "      <td>1</td>\n",
       "      <td>1</td>\n",
       "      <td>0</td>\n",
       "      <td>0</td>\n",
       "    </tr>\n",
       "    <tr>\n",
       "      <th>143</th>\n",
       "      <td>O=C(CCCO)Nc1cccc(C(=O)N2CCC[C@H]2CCCCCC2)n1</td>\n",
       "      <td>1</td>\n",
       "      <td>0</td>\n",
       "      <td>0</td>\n",
       "      <td>0</td>\n",
       "    </tr>\n",
       "    <tr>\n",
       "      <th>144</th>\n",
       "      <td>CNC(=O)c1ccc(CN2CC[NH+](CC3)CC2)cc1</td>\n",
       "      <td>1</td>\n",
       "      <td>0</td>\n",
       "      <td>0</td>\n",
       "      <td>0</td>\n",
       "    </tr>\n",
       "    <tr>\n",
       "      <th>146</th>\n",
       "      <td>CCOC(=O)c1ccc(CN2CC[NH+](CCC)CC2)cc1</td>\n",
       "      <td>1</td>\n",
       "      <td>1</td>\n",
       "      <td>0</td>\n",
       "      <td>0</td>\n",
       "    </tr>\n",
       "    <tr>\n",
       "      <th>147</th>\n",
       "      <td>CC(C)(C)OC(=O)NC[C@H]1CCC[C@H](C[NH3+])O1</td>\n",
       "      <td>1</td>\n",
       "      <td>1</td>\n",
       "      <td>0</td>\n",
       "      <td>0</td>\n",
       "    </tr>\n",
       "    <tr>\n",
       "      <th>148</th>\n",
       "      <td>CC1(C)CC[C@H]([NH2+]C[C@@H](O)c2ccc(C)cc2)C1</td>\n",
       "      <td>1</td>\n",
       "      <td>1</td>\n",
       "      <td>0</td>\n",
       "      <td>0</td>\n",
       "    </tr>\n",
       "    <tr>\n",
       "      <th>149</th>\n",
       "      <td>CCOc1ccc(C(=O)N[C@H](C)c2ccc(F)cc2)cc1OC(F)F</td>\n",
       "      <td>1</td>\n",
       "      <td>1</td>\n",
       "      <td>0</td>\n",
       "      <td>0</td>\n",
       "    </tr>\n",
       "    <tr>\n",
       "      <th>153</th>\n",
       "      <td>Cc1ccc(C(=O)N[C@H](C)c2ccc(F)cc2)cc1C(=O)N(C)C</td>\n",
       "      <td>1</td>\n",
       "      <td>1</td>\n",
       "      <td>0</td>\n",
       "      <td>0</td>\n",
       "    </tr>\n",
       "    <tr>\n",
       "      <th>154</th>\n",
       "      <td>CCc1nn(C)cc1C(=O)Nc1ccc(C(=O)NCCC(=O)N2CCCC2)cc1</td>\n",
       "      <td>1</td>\n",
       "      <td>1</td>\n",
       "      <td>0</td>\n",
       "      <td>0</td>\n",
       "    </tr>\n",
       "    <tr>\n",
       "      <th>155</th>\n",
       "      <td>COc1ccc(C(=O)N[C@H](C)c2ccccc2)cc1OC</td>\n",
       "      <td>1</td>\n",
       "      <td>1</td>\n",
       "      <td>0</td>\n",
       "      <td>0</td>\n",
       "    </tr>\n",
       "    <tr>\n",
       "      <th>156</th>\n",
       "      <td>Cc1nn(C)cc1CNC(=O)N[C@H](C)c1ccc(Cl)cc1</td>\n",
       "      <td>1</td>\n",
       "      <td>1</td>\n",
       "      <td>0</td>\n",
       "      <td>0</td>\n",
       "    </tr>\n",
       "    <tr>\n",
       "      <th>158</th>\n",
       "      <td>CCOC(=O)C1=C(C)N=C(S[C@@H](C(=O)[O-])CC1)N(C)C...</td>\n",
       "      <td>1</td>\n",
       "      <td>1</td>\n",
       "      <td>0</td>\n",
       "      <td>0</td>\n",
       "    </tr>\n",
       "    <tr>\n",
       "      <th>159</th>\n",
       "      <td>Cc1cccc(C(=O)N2CCC[C@H](c3nnc(CCn4cnnn3)c2)C1</td>\n",
       "      <td>1</td>\n",
       "      <td>0</td>\n",
       "      <td>0</td>\n",
       "      <td>0</td>\n",
       "    </tr>\n",
       "    <tr>\n",
       "      <th>160</th>\n",
       "      <td>CCn1nc(C)c(C)c1CNC(=O)N1CCC[C@@H](C(F)(F)F)C1</td>\n",
       "      <td>1</td>\n",
       "      <td>1</td>\n",
       "      <td>0</td>\n",
       "      <td>0</td>\n",
       "    </tr>\n",
       "    <tr>\n",
       "      <th>162</th>\n",
       "      <td>C#CCNC(=O)c1ccc(Cl)cc1Cl</td>\n",
       "      <td>1</td>\n",
       "      <td>1</td>\n",
       "      <td>0</td>\n",
       "      <td>0</td>\n",
       "    </tr>\n",
       "    <tr>\n",
       "      <th>163</th>\n",
       "      <td>COc1ccc(C(=O)N2CCC[C@H](C(=O)Nc3ccc(C)cc3)C2)c...</td>\n",
       "      <td>1</td>\n",
       "      <td>1</td>\n",
       "      <td>0</td>\n",
       "      <td>0</td>\n",
       "    </tr>\n",
       "    <tr>\n",
       "      <th>366</th>\n",
       "      <td>Cc1cc(C)cc(NC(=O)C(=O)N2CCC[C@H](C(=O)Nc3ccccc...</td>\n",
       "      <td>1</td>\n",
       "      <td>1</td>\n",
       "      <td>0</td>\n",
       "      <td>0</td>\n",
       "    </tr>\n",
       "  </tbody>\n",
       "</table>\n",
       "<p>367 rows × 5 columns</p>\n",
       "</div>"
      ],
      "text/plain": [
       "                                            VAE_SMILES  COUNT  VALID  \\\n",
       "362  C[C@H](CC(=O)c1ccc(Cl)cc1)C(=O)N1CCC[C@H](C(F)...     42      1   \n",
       "337  Cc1ccc(C(=O)N2CCC[C@@H](c3nnc(Cn4cccn4)n3C)C2)cc1     31      1   \n",
       "183               Cc1ccc(C(=O)N[C@H](C)c2ccc(Cl)s2)cc1     22      1   \n",
       "152    Cc1ccc(C(=O)N2CCC[C@H](C(=O)Nc3ccc(F)cc3)C2)cc1     22      1   \n",
       "29      COc1ccc(C)cc1NC(=O)C(=O)Nc1ccc(C(=O)NC(C)C)cc1     21      1   \n",
       "100            COc1ccc(C(=O)N[C@H](C)c2ccc(C)cc2)cc1OC     17      1   \n",
       "164  C[C@H](CC(=O)[O-])[C@H](C)NC(=O)C(=O)Nc1ccc(C(...     17      1   \n",
       "145    CC(C)(C)OC(=O)N1CCC[C@@H](C(=O)Nc2cccc(Cl)c2)C1     17      1   \n",
       "240  CC[C@H](C)[C@@H](C)NC(=O)C(=O)Nc1ccc(C(=O)NC(C...     17      1   \n",
       "295    COc1ccc([C@@H]2C(=O)Nc3ccccc3C2=O)cc1C(=O)N(C)C     16      1   \n",
       "79            CC(=O)Nc1ccc(C(=O)N[C@@H](C)c2ccccc2)cc1     16      1   \n",
       "123         CCOC(=O)c1ccc(CN2CC[NH+](Cc3ccccc3)CC2)cc1     14      1   \n",
       "48       CCC[C@@H](C)NC(=O)C(=O)Nc1ccc(C(=O)NC(C)C)cc1     13      1   \n",
       "344         COC(=O)c1ccc(CN2CC[NH+](Cc3ccccc3)CC2)cc1C     11      1   \n",
       "171                 C[C@H](CCCO)Nc1ccc(C(=O)NC(C)C)cc1     10      1   \n",
       "293  CC1(C)CC[C@@H](CNC(=O)C2CCN(S(=O)(=O)c3ccc(C)c...     10      1   \n",
       "229            Cc1nn(C)cc1CNC(=O)NC[C@H]1CCC[C@H](C)C1     10      1   \n",
       "265  CC[C@@H](C)[C@@H](C)NC(=O)C(=O)Nc1ccc(C(=O)NC(...     10      1   \n",
       "294  CC(C)(C)OC(=O)c1ccc(C(=O)N[C@@H]2CCC[C@H](C)C2...     10      1   \n",
       "186  COc1ccc(C(=O)N2CCC[C@H](C(=O)Nc3ccc(F)cc3)C2)c...     10      1   \n",
       "107     Cc1ccc(C(=O)NCCC(=O)N2CCC[C@H](C(F)(F)F)C2)cc1      9      1   \n",
       "254  Cc1nn(C)c(C)c1C(=O)Nc1ccc(C(=O)N[C@H]2CCC[C@@H...      9      1   \n",
       "69   O=C(NC[C@H]1CCC[NH+](Cc2ccccc2)C1)N1CCN(S(=O)(...      9      1   \n",
       "298  CC(C)(C)OC(=O)N1CCC[C@@H](C(=O)Nc2cccc(C(F)(F)...      9      1   \n",
       "111  Cc1ccc(C(=O)N2CCC(C(=O)Nc3ccc(C(=O)[O-])cc3)cc...      9      1   \n",
       "300   COc1ccc(C(=O)N2CCC[C@H](c3nnc(C4CC4)o3)CC2=O)cc1      8      1   \n",
       "302  Cc1nn(C)c2ccccc2c1CC(=O)N1CCC[C@H](C(=O)Nc2ccc...      8      0   \n",
       "120            COc1ccc(C(=O)N[C@H](C)c2ccc(F)cc2)cc1OC      8      1   \n",
       "61   CCOC(=O)c1ccc(C(=O)N[C@@H]2CCC[C@@H](C(F)(F)F)...      7      1   \n",
       "243            COc1ccc([C@@H]2C(=O)Nc3ccccc3C2=O)cc1OC      7      1   \n",
       "..                                                 ...    ...    ...   \n",
       "136    O=C(Nc1cccc(Oc2ccccc2)c1)N1CCN(Cc2ccc(F)cc2)CC1      1      1   \n",
       "133       C#CCOCC(=O)N1CCC[C@@H](C(=O)Nc2cccc(Cl)c2)C1      1      1   \n",
       "132    c1ccc([C@@H]2C[C@@H]3CC[C@@H]2C3)c(-c2ccccc2)n1      1      1   \n",
       "130           COC[C@H](C)NC(=O)C(=O)Nc1ccc(C(=O)NC)cc1      1      1   \n",
       "128  CC[C@@H](C)[C@@H](NC(=O)c1ccc(Cl)cc1)c1nc(C)c2...      1      1   \n",
       "166  Cc1cccc(C(=O)N2CCC[C@H](C(=O)Nc3ccc(C(C)C)cc3)...      1      1   \n",
       "127  Cc1cc(C)c2c(c1)CC[C@H](NC(=O)COc1cccc(Cl)c1)CC...      1      1   \n",
       "124               COC(=O)c1ccc(CN2CC[NH+](CCO)CC2)cc1C      1      1   \n",
       "121         Cc1nc(C)c(C)c1CNC(=O)N[C@H]1CCC[C@@H](C)C1      1      0   \n",
       "119  O=S(=O)([N-]c1cccc(S(=O)(=O)N2CCCCC2)c1)c1ccc(...      1      1   \n",
       "118          CC1(C)CC[C@@H](CNC(=O)C(=O)Nc2ccccc2Cl)C1      1      1   \n",
       "117        CCN(CC)C(=O)CC(=O)N1CCC[C@H](C(=O)NC2CC2)C1      1      1   \n",
       "139              CCc1ccc(C(=O)N[C@H](C)c2ccc(Cl)s2)cc1      1      1   \n",
       "140               CCCN(CC)C(=O)CN1CCN(C(=O)c2cccs2)CC1      1      1   \n",
       "143        O=C(CCCO)Nc1cccc(C(=O)N2CCC[C@H]2CCCCCC2)n1      1      0   \n",
       "144                CNC(=O)c1ccc(CN2CC[NH+](CC3)CC2)cc1      1      0   \n",
       "146               CCOC(=O)c1ccc(CN2CC[NH+](CCC)CC2)cc1      1      1   \n",
       "147          CC(C)(C)OC(=O)NC[C@H]1CCC[C@H](C[NH3+])O1      1      1   \n",
       "148       CC1(C)CC[C@H]([NH2+]C[C@@H](O)c2ccc(C)cc2)C1      1      1   \n",
       "149       CCOc1ccc(C(=O)N[C@H](C)c2ccc(F)cc2)cc1OC(F)F      1      1   \n",
       "153     Cc1ccc(C(=O)N[C@H](C)c2ccc(F)cc2)cc1C(=O)N(C)C      1      1   \n",
       "154   CCc1nn(C)cc1C(=O)Nc1ccc(C(=O)NCCC(=O)N2CCCC2)cc1      1      1   \n",
       "155               COc1ccc(C(=O)N[C@H](C)c2ccccc2)cc1OC      1      1   \n",
       "156            Cc1nn(C)cc1CNC(=O)N[C@H](C)c1ccc(Cl)cc1      1      1   \n",
       "158  CCOC(=O)C1=C(C)N=C(S[C@@H](C(=O)[O-])CC1)N(C)C...      1      1   \n",
       "159      Cc1cccc(C(=O)N2CCC[C@H](c3nnc(CCn4cnnn3)c2)C1      1      0   \n",
       "160      CCn1nc(C)c(C)c1CNC(=O)N1CCC[C@@H](C(F)(F)F)C1      1      1   \n",
       "162                           C#CCNC(=O)c1ccc(Cl)cc1Cl      1      1   \n",
       "163  COc1ccc(C(=O)N2CCC[C@H](C(=O)Nc3ccc(C)cc3)C2)c...      1      1   \n",
       "366  Cc1cc(C)cc(NC(=O)C(=O)N2CCC[C@H](C(=O)Nc3ccccc...      1      1   \n",
       "\n",
       "     IN_TRAIN  IN_TARGET  \n",
       "362         0          0  \n",
       "337         0          0  \n",
       "183         0          0  \n",
       "152         0          0  \n",
       "29          0          0  \n",
       "100         0          0  \n",
       "164         0          0  \n",
       "145         0          0  \n",
       "240         0          0  \n",
       "295         0          0  \n",
       "79          0          0  \n",
       "123         0          0  \n",
       "48          0          0  \n",
       "344         0          0  \n",
       "171         0          0  \n",
       "293         0          0  \n",
       "229         0          0  \n",
       "265         0          0  \n",
       "294         0          0  \n",
       "186         0          0  \n",
       "107         0          0  \n",
       "254         0          0  \n",
       "69          0          0  \n",
       "298         0          0  \n",
       "111         0          0  \n",
       "300         0          0  \n",
       "302         0          0  \n",
       "120         0          0  \n",
       "61          0          0  \n",
       "243         0          0  \n",
       "..        ...        ...  \n",
       "136         0          0  \n",
       "133         0          0  \n",
       "132         0          0  \n",
       "130         0          0  \n",
       "128         0          0  \n",
       "166         0          0  \n",
       "127         0          0  \n",
       "124         0          0  \n",
       "121         0          0  \n",
       "119         0          0  \n",
       "118         0          0  \n",
       "117         0          0  \n",
       "139         0          0  \n",
       "140         0          0  \n",
       "143         0          0  \n",
       "144         0          0  \n",
       "146         0          0  \n",
       "147         0          0  \n",
       "148         0          0  \n",
       "149         0          0  \n",
       "153         0          0  \n",
       "154         0          0  \n",
       "155         0          0  \n",
       "156         0          0  \n",
       "158         0          0  \n",
       "159         0          0  \n",
       "160         0          0  \n",
       "162         0          0  \n",
       "163         0          0  \n",
       "366         0          0  \n",
       "\n",
       "[367 rows x 5 columns]"
      ]
     },
     "execution_count": 61,
     "metadata": {},
     "output_type": "execute_result"
    }
   ],
   "source": [
    "smi_freq_df.sort_values(by=['COUNT'], ascending=False)"
   ]
  },
  {
   "cell_type": "code",
   "execution_count": 62,
   "metadata": {},
   "outputs": [
    {
     "name": "stdout",
     "output_type": "stream",
     "text": [
      "311 VAE generated SMILES are valid molecules\n",
      "0 VAE generated SMILES are in training data\n",
      "1 VAE generated SMILES are in the 250K drug-like SMILES dataset\n"
     ]
    }
   ],
   "source": [
    "#check validity\n",
    "print('%d VAE generated SMILES are valid molecules'%smi_freq_df['VALID'].sum())\n",
    "print('%d VAE generated SMILES are in training data'%smi_freq_df['IN_TRAIN'].sum())\n",
    "print('%d VAE generated SMILES are in the 250K drug-like SMILES dataset'%smi_freq_df['IN_TARGET'].sum())"
   ]
  },
  {
   "cell_type": "markdown",
   "metadata": {},
   "source": [
    "# Navie Sampler vs. VAE Sampler"
   ]
  },
  {
   "cell_type": "markdown",
   "metadata": {},
   "source": [
    "### SMILES length distribution"
   ]
  },
  {
   "cell_type": "code",
   "execution_count": 63,
   "metadata": {},
   "outputs": [
    {
     "name": "stdout",
     "output_type": "stream",
     "text": [
      "The average length of target SMILES is 44.310764\n",
      "The average length of naive sampled SMIELS is 44.427000\n",
      "The average length of VAE sampled smiles is 45.521000\n"
     ]
    }
   ],
   "source": [
    "length_target = list(len(smi) for smi in smiles_target)\n",
    "length_target = np.asarray(length_target)\n",
    "print('The average length of target SMILES is %f'%length_target.mean())\n",
    "\n",
    "length_naive = list(len(smi) for smi in naive_sample_smiles)\n",
    "length_naive = np.asarray(length_naive)\n",
    "print('The average length of naive sampled SMIELS is %f'%length_naive.mean())\n",
    "\n",
    "length_vae = list(len(smi) for smi in vae_smiles_sample)\n",
    "length_vae = np.asarray(length_vae)\n",
    "print('The average length of VAE sampled smiles is %f'%length_vae.mean())"
   ]
  },
  {
   "cell_type": "code",
   "execution_count": 64,
   "metadata": {},
   "outputs": [
    {
     "data": {
      "image/png": "[encoded data removed]",
      "text/plain": [
       "<Figure size 432x288 with 1 Axes>"
      ]
     },
     "metadata": {
      "needs_background": "light"
     },
     "output_type": "display_data"
    }
   ],
   "source": [
    "bins = np.linspace(0, 100, 20)\n",
    "\n",
    "plt.hist(length_target, bins, alpha=0.8, label='length_target', density=True)\n",
    "plt.hist(length_vae, bins, alpha=0.5, label='length_vae',density=True)\n",
    "plt.legend(loc='upper right')\n",
    "plt.xlabel('SMILES length')\n",
    "plt.show()"
   ]
  },
  {
   "cell_type": "code",
   "execution_count": 65,
   "metadata": {
    "scrolled": true
   },
   "outputs": [
    {
     "data": {
      "image/png": "[encoded data removed]",
      "text/plain": [
       "<Figure size 432x288 with 1 Axes>"
      ]
     },
     "metadata": {
      "needs_background": "light"
     },
     "output_type": "display_data"
    }
   ],
   "source": [
    "bins = np.linspace(0, 100, 20)\n",
    "\n",
    "plt.hist(length_target, bins, alpha=0.8, label='length_target', density=True)\n",
    "plt.hist(length_naive, bins, alpha=0.5, label='length_naive', density=True)\n",
    "plt.legend(loc='upper right')\n",
    "plt.xlabel('SMILES length')\n",
    "plt.show()"
   ]
  },
  {
   "cell_type": "markdown",
   "metadata": {},
   "source": [
    "<font color='red'><font size = '3'> COMMENTS </font>\n",
    "* samples from both models match the true distribution of SMILES length\n",
    "* VAE with greedy sampling are less likely to generate very long/short SMIELS (due to VAE or greedy sampling?)"
   ]
  },
  {
   "cell_type": "markdown",
   "metadata": {},
   "source": [
    "### SMILES Validity"
   ]
  },
  {
   "cell_type": "code",
   "execution_count": 66,
   "metadata": {},
   "outputs": [
    {
     "name": "stdout",
     "output_type": "stream",
     "text": [
      "0 out of 1000 SMIELS generated by naive sampler is valid\n",
      "920 out of 1000 SMIELS generated by VAE sampler is valid\n"
     ]
    }
   ],
   "source": [
    "naive_v_cnt = 0\n",
    "for smi in naive_sample_smiles:\n",
    "    if type(rdkit.Chem.MolFromSmiles(smi)) is rdkit.Chem.rdchem.Mol:\n",
    "        naive_v_cnt += 1\n",
    "\n",
    "vae_v_cnt = 0\n",
    "for smi in vae_smiles_sample:\n",
    "    if type(rdkit.Chem.MolFromSmiles(smi)) is rdkit.Chem.rdchem.Mol:\n",
    "        vae_v_cnt += 1\n",
    "\n",
    "print('%d out of %d SMIELS generated by naive sampler is valid'%(naive_v_cnt,len(naive_sample_smiles)))\n",
    "print('%d out of %d SMIELS generated by VAE sampler is valid'%(vae_v_cnt,len(vae_smiles_sample)))"
   ]
  },
  {
   "cell_type": "markdown",
   "metadata": {},
   "source": [
    "<font color='red'><font size = '3'> COMMENTS </font>\n",
    "* VAE does much better in terms of syntactic validity"
   ]
  },
  {
   "cell_type": "markdown",
   "metadata": {},
   "source": [
    "### Edit Distance to Nearest Neighbor"
   ]
  },
  {
   "cell_type": "markdown",
   "metadata": {},
   "source": [
    "### Levenshtein distance"
   ]
  },
  {
   "cell_type": "markdown",
   "metadata": {},
   "source": [
    "The Levenshtein distance is a string metric for measuring the difference between two sequences. Informally, it is the minimum number of single-character edits (insertions, deletions or substitutions) required to change one word into the other. (e.g. LevenDist (kitten, sitting) = 3: 1, kitten -> sitten, 2 sitten -> sittin, 3 sittin -> sitting)"
   ]
  },
  {
   "cell_type": "code",
   "execution_count": 67,
   "metadata": {},
   "outputs": [],
   "source": [
    "def levenshtein(s1, s2):\n",
    "    if len(s1) < len(s2):\n",
    "        return levenshtein(s2, s1)\n",
    "\n",
    "    # len(s1) >= len(s2)\n",
    "    if len(s2) == 0:\n",
    "        return len(s1)\n",
    "\n",
    "    previous_row = range(len(s2) + 1)\n",
    "    for i, c1 in enumerate(s1):\n",
    "        current_row = [i + 1]\n",
    "        for j, c2 in enumerate(s2):\n",
    "            insertions = previous_row[j + 1] + 1 # j+1 instead of j since previous_row and current_row are one character longer\n",
    "            deletions = current_row[j] + 1       # than s2\n",
    "            substitutions = previous_row[j] + (c1 != c2)\n",
    "            current_row.append(min(insertions, deletions, substitutions))\n",
    "        previous_row = current_row\n",
    "    \n",
    "    return previous_row[-1]"
   ]
  },
  {
   "cell_type": "code",
   "execution_count": 68,
   "metadata": {},
   "outputs": [
    {
     "name": "stdout",
     "output_type": "stream",
     "text": [
      "3\n"
     ]
    }
   ],
   "source": [
    "print(levenshtein('kitten','sitting')) "
   ]
  },
  {
   "cell_type": "code",
   "execution_count": 69,
   "metadata": {},
   "outputs": [],
   "source": [
    "target = smiles_target[:10000]"
   ]
  },
  {
   "cell_type": "code",
   "execution_count": 181,
   "metadata": {},
   "outputs": [
    {
     "name": "stderr",
     "output_type": "stream",
     "text": [
      "100%|██████████| 1000/1000 [8:59:08<00:00, 10.45s/it]     \n"
     ]
    }
   ],
   "source": [
    "naive_smiles_dist = []\n",
    "for i in tqdm(range(len(naive_sample_smiles))):\n",
    "    smi_s = naive_sample_smiles[i]\n",
    "    ld_min = 0\n",
    "    for smi_t in target:\n",
    "        ld = levenshtein(smi_s, smi_t)\n",
    "        if ld > ld_min:\n",
    "            ld_min = ld\n",
    "    naive_smiles_dist.append(ld_min)   "
   ]
  },
  {
   "cell_type": "code",
   "execution_count": 182,
   "metadata": {},
   "outputs": [
    {
     "name": "stderr",
     "output_type": "stream",
     "text": [
      "100%|██████████| 1000/1000 [5:27:02<00:00,  7.33s/it]    \n"
     ]
    }
   ],
   "source": [
    "vae_smiles_dist = []\n",
    "for i in tqdm(range(len(vae_smiles_sample))):\n",
    "    smi_s = vae_smiles_sample[i]\n",
    "    ld_min = 0\n",
    "    for smi_t in target:\n",
    "        ld = levenshtein(smi_s, smi_t)\n",
    "        if ld > ld_min:\n",
    "            ld_min = ld\n",
    "    vae_smiles_dist.append(ld_min) "
   ]
  },
  {
   "cell_type": "code",
   "execution_count": 185,
   "metadata": {},
   "outputs": [
    {
     "data": {
      "image/png": "[encoded data removed]",
      "text/plain": [
       "<Figure size 432x288 with 1 Axes>"
      ]
     },
     "metadata": {
      "needs_background": "light"
     },
     "output_type": "display_data"
    }
   ],
   "source": [
    "bins = np.linspace(50, 100, 20)\n",
    "\n",
    "plt.hist(naive_smiles_dist, bins, alpha=0.8, label='naive sampler', density=True)\n",
    "plt.hist(vae_smiles_dist, bins, alpha=0.5, label='VAE sampler', density=True)\n",
    "plt.legend(loc='upper right')\n",
    "plt.xlabel('Lowest Levenshtein Distance')\n",
    "plt.show()"
   ]
  },
  {
   "cell_type": "code",
   "execution_count": 193,
   "metadata": {},
   "outputs": [
    {
     "data": {
      "text/html": [
       "<div>\n",
       "<style scoped>\n",
       "    .dataframe tbody tr th:only-of-type {\n",
       "        vertical-align: middle;\n",
       "    }\n",
       "\n",
       "    .dataframe tbody tr th {\n",
       "        vertical-align: top;\n",
       "    }\n",
       "\n",
       "    .dataframe thead th {\n",
       "        text-align: right;\n",
       "    }\n",
       "</style>\n",
       "<table border=\"1\" class=\"dataframe\">\n",
       "  <thead>\n",
       "    <tr style=\"text-align: right;\">\n",
       "      <th></th>\n",
       "      <th>NAIVE LD</th>\n",
       "      <th>VAE LD</th>\n",
       "    </tr>\n",
       "  </thead>\n",
       "  <tbody>\n",
       "    <tr>\n",
       "      <th>count</th>\n",
       "      <td>1000.000000</td>\n",
       "      <td>1000.000000</td>\n",
       "    </tr>\n",
       "    <tr>\n",
       "      <th>mean</th>\n",
       "      <td>84.385000</td>\n",
       "      <td>79.966000</td>\n",
       "    </tr>\n",
       "    <tr>\n",
       "      <th>std</th>\n",
       "      <td>3.147488</td>\n",
       "      <td>5.933131</td>\n",
       "    </tr>\n",
       "    <tr>\n",
       "      <th>min</th>\n",
       "      <td>74.000000</td>\n",
       "      <td>63.000000</td>\n",
       "    </tr>\n",
       "    <tr>\n",
       "      <th>25%</th>\n",
       "      <td>82.000000</td>\n",
       "      <td>76.000000</td>\n",
       "    </tr>\n",
       "    <tr>\n",
       "      <th>50%</th>\n",
       "      <td>84.000000</td>\n",
       "      <td>81.000000</td>\n",
       "    </tr>\n",
       "    <tr>\n",
       "      <th>75%</th>\n",
       "      <td>86.000000</td>\n",
       "      <td>85.000000</td>\n",
       "    </tr>\n",
       "    <tr>\n",
       "      <th>max</th>\n",
       "      <td>97.000000</td>\n",
       "      <td>95.000000</td>\n",
       "    </tr>\n",
       "  </tbody>\n",
       "</table>\n",
       "</div>"
      ],
      "text/plain": [
       "          NAIVE LD       VAE LD\n",
       "count  1000.000000  1000.000000\n",
       "mean     84.385000    79.966000\n",
       "std       3.147488     5.933131\n",
       "min      74.000000    63.000000\n",
       "25%      82.000000    76.000000\n",
       "50%      84.000000    81.000000\n",
       "75%      86.000000    85.000000\n",
       "max      97.000000    95.000000"
      ]
     },
     "execution_count": 193,
     "metadata": {},
     "output_type": "execute_result"
    }
   ],
   "source": [
    "dist = [naive_smiles_dist, vae_smiles_dist]\n",
    "pd.DataFrame(np.array(dist).T, columns = ['NAIVE LD', 'VAE LD']).describe()"
   ]
  },
  {
   "cell_type": "markdown",
   "metadata": {},
   "source": [
    "<font color='red'><font size = '3'> COMMENTS </font>\n",
    "* VAE samples match true SMILES better than naive samples\n",
    "* Levenshtein distance is computationally expensive and can only be used as an approxy to validty"
   ]
  },
  {
   "cell_type": "markdown",
   "metadata": {},
   "source": [
    "## VAE Sampler ( z ~ q(z|x), greedy sampling)"
   ]
  },
  {
   "cell_type": "markdown",
   "metadata": {},
   "source": [
    "* select a SMILE from training data\n",
    "* find its mean in Z space\n",
    "* sample 5 SMILES from decoder\n",
    "* visualize SMILES in 2D molecular graph"
   ]
  },
  {
   "cell_type": "code",
   "execution_count": 70,
   "metadata": {},
   "outputs": [],
   "source": [
    "from rdkit.Chem.Draw import IPythonConsole #Needed to show molecules\n",
    "from rdkit.Chem.Draw.MolDrawing import MolDrawing, DrawingOptions #Only needed if mod"
   ]
  },
  {
   "cell_type": "code",
   "execution_count": 71,
   "metadata": {},
   "outputs": [],
   "source": [
    "data_dir = \"/Users/keyu/PycharmProjects/DrugEmbedding/data/\"\n",
    "vocab_file = \"zinc_char_list.json\"\n",
    "model_file = 'logistic_KL_annealing_mdl'\n",
    "w2i, i2w = idx2word(data_dir, vocab_file)\n",
    "eos_idx = w2i['<eos>']\n",
    "model = torch.load(model_file)"
   ]
  },
  {
   "cell_type": "code",
   "execution_count": 168,
   "metadata": {},
   "outputs": [],
   "source": [
    "smile_1st = 'CC(C)(C)c1ccc2occ(CC(=O)Nc3ccccc3F)c2c1'\n",
    "input_sequence = [w2i['<sos>']]\n",
    "for i in smile_1st:\n",
    "    input_sequence.append(w2i[i])\n",
    "input_sequence.append(w2i['<eos>'])\n",
    "input_sequence = input_sequence + [0] * (max_sequence_length - len(input_sequence)-1)\n",
    "input_sequence = np.asarray(input_sequence)\n",
    "input_sequence = torch.from_numpy(input_sequence).unsqueeze(0)\n",
    "sequence_length = torch.tensor([len(smile_1st)+1])"
   ]
  },
  {
   "cell_type": "code",
   "execution_count": 169,
   "metadata": {},
   "outputs": [
    {
     "data": {
      "image/png": "[encoded data removed]",
      "text/plain": [
       "<rdkit.Chem.rdchem.Mol at 0x12ea46620>"
      ]
     },
     "execution_count": 169,
     "metadata": {},
     "output_type": "execute_result"
    }
   ],
   "source": [
    "rdkit.Chem.MolFromSmiles(smile_1st)"
   ]
  },
  {
   "cell_type": "markdown",
   "metadata": {},
   "source": [
    "### Generate SMILE with mean(z)"
   ]
  },
  {
   "cell_type": "code",
   "execution_count": 170,
   "metadata": {},
   "outputs": [],
   "source": [
    "#sample from q(z|x), where x is ibuprofen\n",
    "_, mean, logv, _= model.forward(input_sequence,sequence_length)"
   ]
  },
  {
   "cell_type": "code",
   "execution_count": 171,
   "metadata": {},
   "outputs": [
    {
     "name": "stdout",
     "output_type": "stream",
     "text": [
      "CC(C)(C)OC(=O)N1CCC[C@@H](C(=O)Nc2cccc(C(F)(F)F)c2)C1\n"
     ]
    }
   ],
   "source": [
    "samples_idx,_ = model.inference(1,mean.unsqueeze(0))\n",
    "smiles_lst = []\n",
    "for i in range(1):\n",
    "    smiles = []\n",
    "    for j in range(max_sequence_length):\n",
    "        if samples_idx[i,j] == eos_idx:\n",
    "            break\n",
    "        smiles.append(i2w[samples_idx[i,j].item()])\n",
    "    smiles = \"\".join(smiles)\n",
    "    smiles_lst.append(smiles)\n",
    "print(smiles)"
   ]
  },
  {
   "cell_type": "code",
   "execution_count": 172,
   "metadata": {},
   "outputs": [
    {
     "data": {
      "image/png": "[encoded data removed]",
      "text/plain": [
       "<rdkit.Chem.rdchem.Mol at 0x12ea45e90>"
      ]
     },
     "execution_count": 172,
     "metadata": {},
     "output_type": "execute_result"
    }
   ],
   "source": [
    "rdkit.Chem.MolFromSmiles(smiles)"
   ]
  },
  {
   "cell_type": "markdown",
   "metadata": {},
   "source": [
    "<font color='red'><font size = '3'> COMMENTS </font>\n",
    "* it matches a few local patterns (e.g. \"CC(C)(C)\" at beginning, \"C(=O)Nc2cccc\" in the middle, \"c2)C1\" at end) "
   ]
  },
  {
   "cell_type": "markdown",
   "metadata": {},
   "source": [
    "### Generate SMILES with z ~ q(z|x)"
   ]
  },
  {
   "cell_type": "code",
   "execution_count": 173,
   "metadata": {},
   "outputs": [],
   "source": [
    "#sample from q(z|x), where x is ibuprofen\n",
    "std = torch.exp(0.5 * logv)\n",
    "z = torch.randn([5, mean.size(0)])\n",
    "z = z * std + mean"
   ]
  },
  {
   "cell_type": "code",
   "execution_count": 174,
   "metadata": {},
   "outputs": [],
   "source": [
    "samples_idx,_ = model.inference(z.size(0),z)"
   ]
  },
  {
   "cell_type": "code",
   "execution_count": 175,
   "metadata": {},
   "outputs": [],
   "source": [
    "smiles_lst = []\n",
    "for i in range(z.size(0)):\n",
    "    smiles = []\n",
    "    for j in range(max_sequence_length):\n",
    "        if samples_idx[i,j] == eos_idx:\n",
    "            break\n",
    "        smiles.append(i2w[samples_idx[i,j].item()])\n",
    "    smiles = \"\".join(smiles)\n",
    "    smiles_lst.append(smiles)"
   ]
  },
  {
   "cell_type": "code",
   "execution_count": 176,
   "metadata": {
    "scrolled": true
   },
   "outputs": [
    {
     "name": "stdout",
     "output_type": "stream",
     "text": [
      "CC(C)(C)OC(=O)N1CCC[C@@H](C(=O)Nc2cccc(Cl)c2)C1\n",
      "CC(C)(C)OC(=O)N1CCC[C@@H](C(=O)Nc2cccc(C(F)(F)F)c2)C1\n",
      "CC(C)(C)OC(=O)c1ccc(C(=O)N[C@@H]2CCC[C@H](C)C2)cc1\n",
      "CC(C)(C)OC(=O)N1CCC[C@@H](C(=O)Nc2cccc(Cl)c2)C1\n",
      "Cc1ccc(C(=O)N2CCC[C@@H](c3nnc(Cn4cccn4)n3C)C2)cc1\n"
     ]
    }
   ],
   "source": [
    "for s in smiles_lst:\n",
    "    print(s)"
   ]
  },
  {
   "cell_type": "code",
   "execution_count": 177,
   "metadata": {},
   "outputs": [
    {
     "data": {
      "image/png": "[encoded data removed]",
      "text/plain": [
       "<rdkit.Chem.rdchem.Mol at 0x12ea45f80>"
      ]
     },
     "execution_count": 177,
     "metadata": {},
     "output_type": "execute_result"
    }
   ],
   "source": [
    "rdkit.Chem.MolFromSmiles('CC(C)(C)OC(=O)N1CCC[C@@H](C(=O)Nc2cccc(Cl)c2)C1')"
   ]
  },
  {
   "cell_type": "code",
   "execution_count": 178,
   "metadata": {},
   "outputs": [
    {
     "data": {
      "image/png": "[encoded data removed]",
      "text/plain": [
       "<rdkit.Chem.rdchem.Mol at 0x12ea46990>"
      ]
     },
     "execution_count": 178,
     "metadata": {},
     "output_type": "execute_result"
    }
   ],
   "source": [
    "rdkit.Chem.MolFromSmiles('CC(C)(C)OC(=O)N1CCC[C@@H](C(=O)Nc2cccc(C(F)(F)F)c2)C1')"
   ]
  },
  {
   "cell_type": "code",
   "execution_count": 179,
   "metadata": {},
   "outputs": [
    {
     "data": {
      "image/png": "[encoded data removed]",
      "text/plain": [
       "<rdkit.Chem.rdchem.Mol at 0x12ea453a0>"
      ]
     },
     "execution_count": 179,
     "metadata": {},
     "output_type": "execute_result"
    }
   ],
   "source": [
    "rdkit.Chem.MolFromSmiles('CC(C)(C)OC(=O)c1ccc(C(=O)N[C@@H]2CCC[C@H](C)C2)cc1')"
   ]
  },
  {
   "cell_type": "code",
   "execution_count": 180,
   "metadata": {},
   "outputs": [
    {
     "data": {
      "image/png": "[encoded data removed]",
      "text/plain": [
       "<rdkit.Chem.rdchem.Mol at 0x12ea456c0>"
      ]
     },
     "execution_count": 180,
     "metadata": {},
     "output_type": "execute_result"
    }
   ],
   "source": [
    "rdkit.Chem.MolFromSmiles('Cc1ccc(C(=O)N2CCC[C@@H](c3nnc(Cn4cccn4)n3C)C2)cc1')"
   ]
  },
  {
   "cell_type": "markdown",
   "metadata": {},
   "source": [
    "## Try to generate SMILES with relatively rare elements"
   ]
  },
  {
   "cell_type": "code",
   "execution_count": 207,
   "metadata": {},
   "outputs": [],
   "source": [
    "#smile_1st = 'O=C(Cc1ccc(NC(=O)c2ccc3ncsc3c2)cc1)NCC(F)(F)F'\n",
    "smile_1st = 'CC[NH+](CC)[C@](C)(CC)[C@H](O)c1cscc1Br'\n",
    "input_sequence = [w2i['<sos>']]\n",
    "for i in smile_1st:\n",
    "    input_sequence.append(w2i[i])\n",
    "input_sequence.append(w2i['<eos>'])\n",
    "input_sequence = input_sequence + [0] * (max_sequence_length - len(input_sequence)-1)\n",
    "input_sequence = np.asarray(input_sequence)\n",
    "input_sequence = torch.from_numpy(input_sequence).unsqueeze(0)\n",
    "sequence_length = torch.tensor([len(smile_1st)+1])"
   ]
  },
  {
   "cell_type": "code",
   "execution_count": 208,
   "metadata": {},
   "outputs": [
    {
     "data": {
      "image/png": "[encoded data removed]",
      "text/plain": [
       "<rdkit.Chem.rdchem.Mol at 0x12a9a1a80>"
      ]
     },
     "execution_count": 208,
     "metadata": {},
     "output_type": "execute_result"
    }
   ],
   "source": [
    "rdkit.Chem.MolFromSmiles(smile_1st)"
   ]
  },
  {
   "cell_type": "code",
   "execution_count": 209,
   "metadata": {},
   "outputs": [],
   "source": [
    "#sample from q(z|x), where x is ibuprofen\n",
    "_, mean, logv, _= model.forward(input_sequence,sequence_length)"
   ]
  },
  {
   "cell_type": "code",
   "execution_count": 210,
   "metadata": {},
   "outputs": [
    {
     "name": "stdout",
     "output_type": "stream",
     "text": [
      "CC[NH+](CC)[C@@H](C)C(=O)Nc1ccc(C(=O)NC(C)C)cc1\n"
     ]
    }
   ],
   "source": [
    "samples_idx,_ = model.inference(1,mean.unsqueeze(0))\n",
    "smiles_lst = []\n",
    "for i in range(1):\n",
    "    smiles = []\n",
    "    for j in range(max_sequence_length):\n",
    "        if samples_idx[i,j] == eos_idx:\n",
    "            break\n",
    "        smiles.append(i2w[samples_idx[i,j].item()])\n",
    "    smiles = \"\".join(smiles)\n",
    "    smiles_lst.append(smiles)\n",
    "print(smiles)"
   ]
  },
  {
   "cell_type": "code",
   "execution_count": 211,
   "metadata": {},
   "outputs": [
    {
     "data": {
      "image/png": "[encoded data removed]",
      "text/plain": [
       "<rdkit.Chem.rdchem.Mol at 0x128d0bcb0>"
      ]
     },
     "execution_count": 211,
     "metadata": {},
     "output_type": "execute_result"
    }
   ],
   "source": [
    "rdkit.Chem.MolFromSmiles(smiles)"
   ]
  },
  {
   "cell_type": "markdown",
   "metadata": {},
   "source": [
    "<font color='red'><font size = '3'> COMMENTS </font>\n",
    "* it failed to represent relatively rare atoms (e.g. Sulfur, Bromine)\n",
    "* it was able to capture a couple of local patterns with more common chemical elments\n"
   ]
  },
  {
   "cell_type": "code",
   "execution_count": 303,
   "metadata": {},
   "outputs": [],
   "source": [
    "#sample from q(z|x), where x is ibuprofen\n",
    "std = torch.exp(0.5 * logv)\n",
    "z = torch.randn([5, mean.size(0)])\n",
    "z = z * std + mean"
   ]
  },
  {
   "cell_type": "code",
   "execution_count": 213,
   "metadata": {},
   "outputs": [],
   "source": [
    "samples_idx,_ = model.inference(z.size(0),z)"
   ]
  },
  {
   "cell_type": "code",
   "execution_count": 214,
   "metadata": {},
   "outputs": [],
   "source": [
    "smiles_lst = []\n",
    "for i in range(z.size(0)):\n",
    "    smiles = []\n",
    "    for j in range(max_sequence_length):\n",
    "        if samples_idx[i,j] == eos_idx:\n",
    "            break\n",
    "        smiles.append(i2w[samples_idx[i,j].item()])\n",
    "    smiles = \"\".join(smiles)\n",
    "    smiles_lst.append(smiles)"
   ]
  },
  {
   "cell_type": "code",
   "execution_count": 215,
   "metadata": {},
   "outputs": [
    {
     "name": "stdout",
     "output_type": "stream",
     "text": [
      "CC[NH+](CC)[C@@H]1CCC[C@H](C)C[C@@H]1[NH2+]CCC(=O)[O-]\n",
      "CC[C@H](C)[C@@H](C)NC(=O)C(=O)Nc1ccc(C(=O)[O-])o1\n",
      "CC[NH+](CC)[C@@H](C)C(=O)Nc1ccc(C(=O)NC(C)C)cc1\n",
      "CC[C@H](C)[C@@H](C)NC(=O)C(=O)Nc1ccc(C(=O)NC(C)C)cc1\n",
      "CC[C@H](C)[C@@H](C)NC(=O)C(=O)Nc1ccc(C(=O)NC(C)C)cc1\n"
     ]
    }
   ],
   "source": [
    "for s in smiles_lst:\n",
    "    print(s)"
   ]
  },
  {
   "cell_type": "code",
   "execution_count": 216,
   "metadata": {},
   "outputs": [
    {
     "data": {
      "image/png": "[encoded data removed]",
      "text/plain": [
       "<rdkit.Chem.rdchem.Mol at 0x12ea361c0>"
      ]
     },
     "execution_count": 216,
     "metadata": {},
     "output_type": "execute_result"
    }
   ],
   "source": [
    "rdkit.Chem.MolFromSmiles('CC[NH+](CC)[C@@H]1CCC[C@H](C)C[C@@H]1[NH2+]CCC(=O)[O-]')"
   ]
  },
  {
   "cell_type": "code",
   "execution_count": 217,
   "metadata": {},
   "outputs": [
    {
     "data": {
      "image/png": "[encoded data removed]",
      "text/plain": [
       "<rdkit.Chem.rdchem.Mol at 0x12ea36b20>"
      ]
     },
     "execution_count": 217,
     "metadata": {},
     "output_type": "execute_result"
    }
   ],
   "source": [
    "rdkit.Chem.MolFromSmiles('CC[C@H](C)[C@@H](C)NC(=O)C(=O)Nc1ccc(C(=O)[O-])o1')"
   ]
  },
  {
   "cell_type": "code",
   "execution_count": 218,
   "metadata": {},
   "outputs": [
    {
     "data": {
      "image/png": "[encoded data removed]",
      "text/plain": [
       "<rdkit.Chem.rdchem.Mol at 0x12a9a1b20>"
      ]
     },
     "execution_count": 218,
     "metadata": {},
     "output_type": "execute_result"
    }
   ],
   "source": [
    "rdkit.Chem.MolFromSmiles('CC[NH+](CC)[C@@H](C)C(=O)Nc1ccc(C(=O)NC(C)C)cc1')"
   ]
  },
  {
   "cell_type": "code",
   "execution_count": 219,
   "metadata": {},
   "outputs": [
    {
     "data": {
      "image/png": "[encoded data removed]",
      "text/plain": [
       "<rdkit.Chem.rdchem.Mol at 0x12a987b20>"
      ]
     },
     "execution_count": 219,
     "metadata": {},
     "output_type": "execute_result"
    }
   ],
   "source": [
    "rdkit.Chem.MolFromSmiles('CC[C@H](C)[C@@H](C)NC(=O)C(=O)Nc1ccc(C(=O)NC(C)C)cc1')"
   ]
  },
  {
   "cell_type": "markdown",
   "metadata": {},
   "source": [
    "## Drugs' distance to Ibuprofen in the latent space\n",
    "\n",
    "* find the means of latent variables for SMILES of real drugs\n",
    "* Ibuprofen is not in the 4K training data"
   ]
  },
  {
   "cell_type": "code",
   "execution_count": 285,
   "metadata": {},
   "outputs": [],
   "source": [
    "data_dir = \"/Users/keyu/PycharmProjects/DrugEmbedding/data/\"\n",
    "vocab_file = \"zinc_char_list.json\"\n",
    "model_file = 'logistic_KL_annealing_mdl'\n",
    "w2i, i2w = idx2word(data_dir, vocab_file)\n",
    "eos_idx = w2i['<eos>']\n",
    "model = torch.load(model_file)"
   ]
  },
  {
   "cell_type": "code",
   "execution_count": 286,
   "metadata": {},
   "outputs": [],
   "source": [
    "target_drug = 'Ibuprofen'"
   ]
  },
  {
   "cell_type": "code",
   "execution_count": 287,
   "metadata": {},
   "outputs": [],
   "source": [
    "#create two dims lists: 1st dim SMILES, 2nd dim chars in SMILES\n",
    "data_dir = './data/'\n",
    "train_file = 'all_drugs.smi'\n",
    "dataset_raw_file = os.path.join(data_dir, train_file)\n",
    "drugs_dict = {}\n",
    "with open(dataset_raw_file, 'r') as file:\n",
    "    for seq in file.readlines():\n",
    "        if seq != '\\n':\n",
    "            line = seq.split(\" \")\n",
    "            drugs_dict[line[1]] = line[0]\n",
    "file.close()"
   ]
  },
  {
   "cell_type": "code",
   "execution_count": 296,
   "metadata": {},
   "outputs": [],
   "source": [
    "drugs_mu_dict = {}\n",
    "for key in drugs_dict.keys():\n",
    "    smile_1st = drugs_dict[key]\n",
    "    input_sequence = [w2i['<sos>']]\n",
    "    for i in smile_1st:\n",
    "        try:\n",
    "            input_sequence.append(w2i[i])\n",
    "        except:\n",
    "            input_sequence.append(w2i['<unk>'])\n",
    "    input_sequence.append(w2i['<eos>'])\n",
    "    input_sequence = input_sequence + [0] * (max_sequence_length - len(input_sequence)-1)\n",
    "    input_sequence = np.asarray(input_sequence)\n",
    "    input_sequence = torch.from_numpy(input_sequence).unsqueeze(0)\n",
    "    sequence_length = torch.tensor([len(smile_1st)+1])\n",
    "    _, mean, logv, _= model.forward(input_sequence,sequence_length)\n",
    "    \n",
    "    samples_idx,_ = model.inference(1,mean.unsqueeze(0))\n",
    "    for i in range(1):\n",
    "        smiles = []\n",
    "        for j in range(max_sequence_length):\n",
    "            if samples_idx[i,j] == eos_idx:\n",
    "                break\n",
    "            smiles.append(i2w[samples_idx[i,j].item()])\n",
    "        smiles = \"\".join(smiles)\n",
    "    \n",
    "    drugs_mu_dict[key] = [mean, smiles]"
   ]
  },
  {
   "cell_type": "code",
   "execution_count": 297,
   "metadata": {},
   "outputs": [],
   "source": [
    "drugs_dist_dict = {}\n",
    "for key in drugs_mu_dict.keys():\n",
    "    eu_dist = (drugs_mu_dict[key][0] - drugs_mu_dict[target_drug][0]).pow(2).sum().pow(0.5)\n",
    "    drugs_dist_dict[key] = eu_dist"
   ]
  },
  {
   "cell_type": "code",
   "execution_count": 298,
   "metadata": {},
   "outputs": [],
   "source": [
    "df_lst = []\n",
    "for key in drugs_dict.keys():\n",
    "    df_lst.append([key, drugs_dict[key], drugs_mu_dict[key][-1],drugs_dist_dict[key].item()])\n",
    "df = pd.DataFrame(df_lst, columns = ['drug','SMILES','SMILES_VAE','dist'])"
   ]
  },
  {
   "cell_type": "code",
   "execution_count": 301,
   "metadata": {},
   "outputs": [
    {
     "data": {
      "text/plain": [
       "270"
      ]
     },
     "execution_count": 301,
     "metadata": {},
     "output_type": "execute_result"
    }
   ],
   "source": [
    "#1365 drugs, only 270 unique SMILES_VAE\n",
    "len(df['SMILES_VAE'].unique())"
   ]
  },
  {
   "cell_type": "code",
   "execution_count": 300,
   "metadata": {},
   "outputs": [
    {
     "data": {
      "text/html": [
       "<div>\n",
       "<style scoped>\n",
       "    .dataframe tbody tr th:only-of-type {\n",
       "        vertical-align: middle;\n",
       "    }\n",
       "\n",
       "    .dataframe tbody tr th {\n",
       "        vertical-align: top;\n",
       "    }\n",
       "\n",
       "    .dataframe thead th {\n",
       "        text-align: right;\n",
       "    }\n",
       "</style>\n",
       "<table border=\"1\" class=\"dataframe\">\n",
       "  <thead>\n",
       "    <tr style=\"text-align: right;\">\n",
       "      <th></th>\n",
       "      <th>drug</th>\n",
       "      <th>SMILES</th>\n",
       "      <th>SMILES_VAE</th>\n",
       "      <th>dist</th>\n",
       "    </tr>\n",
       "  </thead>\n",
       "  <tbody>\n",
       "    <tr>\n",
       "      <th>640</th>\n",
       "      <td>Ibuprofen</td>\n",
       "      <td>CC(C)Cc1ccc(C(C)C(=O)O)cc1</td>\n",
       "      <td>CC(C)(C)OC(=O)NC[C@H]1CCC[C@H](C)C1</td>\n",
       "      <td>0.000000</td>\n",
       "    </tr>\n",
       "    <tr>\n",
       "      <th>137</th>\n",
       "      <td>Bepridil</td>\n",
       "      <td>CC(C)COCC(CN(Cc1ccccc1)c1ccccc1)N1CCCC1</td>\n",
       "      <td>CC(C)(C)OC(=O)NC[C@H]1CCC[C@H](C)C1</td>\n",
       "      <td>0.216525</td>\n",
       "    </tr>\n",
       "    <tr>\n",
       "      <th>1031</th>\n",
       "      <td>Pindolol</td>\n",
       "      <td>CC(C)NCC(O)COc1cccc2[nH]ccc12</td>\n",
       "      <td>CC(C)(C)OC(=O)NC[C@H]1CCC[C@H](C)C1</td>\n",
       "      <td>0.241444</td>\n",
       "    </tr>\n",
       "    <tr>\n",
       "      <th>103</th>\n",
       "      <td>Atenolol</td>\n",
       "      <td>CC(C)NCC(O)COc1ccc(CC(N)=O)cc1</td>\n",
       "      <td>CC(C)(C)OC(=O)NC[C@H]1CCC[C@H](C)C1</td>\n",
       "      <td>0.242473</td>\n",
       "    </tr>\n",
       "    <tr>\n",
       "      <th>141</th>\n",
       "      <td>Betaxolol</td>\n",
       "      <td>CC(C)NCC(O)COc1ccc(CCOCC2CC2)cc1</td>\n",
       "      <td>CC(C)(C)OC(=O)NC[C@H]1CCC[C@H](C)C1</td>\n",
       "      <td>0.247049</td>\n",
       "    </tr>\n",
       "    <tr>\n",
       "      <th>154</th>\n",
       "      <td>Bisoprolol</td>\n",
       "      <td>CC(C)NCC(O)COc1ccc(COCCOC(C)C)cc1</td>\n",
       "      <td>CC(C)(C)OC(=O)NC[C@H]1CCC[C@H](C)C1</td>\n",
       "      <td>0.263796</td>\n",
       "    </tr>\n",
       "    <tr>\n",
       "      <th>1179</th>\n",
       "      <td>Sotalol</td>\n",
       "      <td>CC(C)NCC(O)c1ccc(NS(C)(=O)=O)cc1</td>\n",
       "      <td>CC(C)(C)OC(=O)NC[C@H]1CCC[C@H](C)C1</td>\n",
       "      <td>0.283380</td>\n",
       "    </tr>\n",
       "    <tr>\n",
       "      <th>558</th>\n",
       "      <td>Fospropofol</td>\n",
       "      <td>CC(C)c1cccc(C(C)C)c1OCOP(=O)(O)O</td>\n",
       "      <td>CC(C)(C)OC(=O)N1CCC[C@@H](C(=O)Nc2cccc(Cl)c2)C1</td>\n",
       "      <td>0.301341</td>\n",
       "    </tr>\n",
       "    <tr>\n",
       "      <th>793</th>\n",
       "      <td>Menthol</td>\n",
       "      <td>CC(C)[C@@H]1CC[C@@H](C)C[C@H]1O</td>\n",
       "      <td>CC(C)(C)OC(=O)NC[C@H]1CCC[C@H](C)C1</td>\n",
       "      <td>0.320884</td>\n",
       "    </tr>\n",
       "    <tr>\n",
       "      <th>1151</th>\n",
       "      <td>Salbutamol</td>\n",
       "      <td>CC(C)(C)NCC(O)c1ccc(O)c(CO)c1</td>\n",
       "      <td>CC(C)(C)OC(=O)NC[C@H]1CCC[C@H](C)C1</td>\n",
       "      <td>0.326287</td>\n",
       "    </tr>\n",
       "    <tr>\n",
       "      <th>1238</th>\n",
       "      <td>Terbutaline</td>\n",
       "      <td>CC(C)(C)NCC(O)c1cc(O)cc(O)c1</td>\n",
       "      <td>CC(C)(C)OC(=O)NC[C@H]1CCC[C@H](C)C1</td>\n",
       "      <td>0.326297</td>\n",
       "    </tr>\n",
       "    <tr>\n",
       "      <th>414</th>\n",
       "      <td>Dobutamine</td>\n",
       "      <td>CC(CCc1ccc(O)cc1)NCCc1ccc(O)c(O)c1</td>\n",
       "      <td>CC(C)(C)OC(=O)N1CCC[C@@H](C(=O)Nc2cccc(Cl)c2)C1</td>\n",
       "      <td>0.326335</td>\n",
       "    </tr>\n",
       "    <tr>\n",
       "      <th>1038</th>\n",
       "      <td>Pirbuterol</td>\n",
       "      <td>CC(C)(C)NCC(O)c1ccc(O)c(CO)n1</td>\n",
       "      <td>CC(C)(C)OC(=O)NC[C@H]1CCC[C@H](C)C1</td>\n",
       "      <td>0.334226</td>\n",
       "    </tr>\n",
       "    <tr>\n",
       "      <th>669</th>\n",
       "      <td>Isoflurophate</td>\n",
       "      <td>CC(C)OP(=O)(F)OC(C)C</td>\n",
       "      <td>CC(C)(C)OC(=O)NC[C@H]1CCC[C@H](C)C1</td>\n",
       "      <td>0.336808</td>\n",
       "    </tr>\n",
       "    <tr>\n",
       "      <th>1089</th>\n",
       "      <td>Propranolol</td>\n",
       "      <td>CC(C)NCC(O)COc1cccc2ccccc12</td>\n",
       "      <td>CC(C)(C)OC(=O)NC[C@H]1CCC[C@H](C)C1</td>\n",
       "      <td>0.342228</td>\n",
       "    </tr>\n",
       "    <tr>\n",
       "      <th>673</th>\n",
       "      <td>Isoproterenol</td>\n",
       "      <td>CC(C)NCC(O)c1ccc(O)c(O)c1</td>\n",
       "      <td>CC(C)(C)OC(=O)NC[C@H]1CCC[C@H](C)C1</td>\n",
       "      <td>0.347848</td>\n",
       "    </tr>\n",
       "    <tr>\n",
       "      <th>948</th>\n",
       "      <td>Orciprenaline</td>\n",
       "      <td>CC(C)NCC(O)c1cc(O)cc(O)c1</td>\n",
       "      <td>CC(C)(C)OC(=O)NC[C@H]1CCC[C@H](C)C1</td>\n",
       "      <td>0.354112</td>\n",
       "    </tr>\n",
       "    <tr>\n",
       "      <th>639</th>\n",
       "      <td>Ibudilast</td>\n",
       "      <td>CC(C)C(=O)c1c(C(C)C)nn2ccccc12</td>\n",
       "      <td>CC(C)(C)OC(=O)NC[C@H]1CCC[C@H](C)C1</td>\n",
       "      <td>0.368191</td>\n",
       "    </tr>\n",
       "    <tr>\n",
       "      <th>1087</th>\n",
       "      <td>Propofol</td>\n",
       "      <td>CC(C)c1cccc(C(C)C)c1O</td>\n",
       "      <td>CC(C)(C)OC(=O)NC[C@H]1CCC[C@H](C)C1</td>\n",
       "      <td>0.380770</td>\n",
       "    </tr>\n",
       "    <tr>\n",
       "      <th>1016</th>\n",
       "      <td>Phenoxybenzamine</td>\n",
       "      <td>CC(COc1ccccc1)N(CCCl)Cc1ccccc1</td>\n",
       "      <td>CC(C)(C)OC(=O)NC[C@H]1CCC[C@H](C)C1</td>\n",
       "      <td>0.387779</td>\n",
       "    </tr>\n",
       "    <tr>\n",
       "      <th>510</th>\n",
       "      <td>Fenoprofen</td>\n",
       "      <td>CC(C(=O)O)c1cccc(Oc2ccccc2)c1</td>\n",
       "      <td>CC(C)(C)OC(=O)NC[C@H]1CCC[C@H](C)C1</td>\n",
       "      <td>0.393790</td>\n",
       "    </tr>\n",
       "    <tr>\n",
       "      <th>1308</th>\n",
       "      <td>Trimeprazine</td>\n",
       "      <td>CC(CN(C)C)CN1c2ccccc2Sc2ccccc21</td>\n",
       "      <td>CC(C)(C)OC(=O)NC[C@H]1CCC[C@H](C)C1</td>\n",
       "      <td>0.394211</td>\n",
       "    </tr>\n",
       "    <tr>\n",
       "      <th>621</th>\n",
       "      <td>Hexylcaine</td>\n",
       "      <td>CC(CNC1CCCCC1)OC(=O)c1ccccc1</td>\n",
       "      <td>CC(C)(C)OC(=O)NC[C@H]1CCC[C@H](C)C1</td>\n",
       "      <td>0.396702</td>\n",
       "    </tr>\n",
       "    <tr>\n",
       "      <th>727</th>\n",
       "      <td>Levobunolol</td>\n",
       "      <td>CC(C)(C)NC[C@H](O)COc1cccc2c1CCCC2=O</td>\n",
       "      <td>CC(C)(C)OC(=O)NC[C@H]1CCC[C@H](C)C1</td>\n",
       "      <td>0.401331</td>\n",
       "    </tr>\n",
       "    <tr>\n",
       "      <th>289</th>\n",
       "      <td>Clenbuterol</td>\n",
       "      <td>CC(C)(C)NCC(O)c1cc(Cl)c(N)c(Cl)c1</td>\n",
       "      <td>CC(C)(C)OC(=O)NC[C@H]1CCC[C@H](C)C1</td>\n",
       "      <td>0.430916</td>\n",
       "    </tr>\n",
       "    <tr>\n",
       "      <th>1079</th>\n",
       "      <td>Proguanil</td>\n",
       "      <td>CC(C)/N=C(\\N)N=C(N)Nc1ccc(Cl)cc1</td>\n",
       "      <td>CC(C)(C)OC(=O)NC[C@H]1CCC[C@H](C)C1</td>\n",
       "      <td>0.443976</td>\n",
       "    </tr>\n",
       "    <tr>\n",
       "      <th>1314</th>\n",
       "      <td>Trimipramine</td>\n",
       "      <td>CC(CN(C)C)CN1c2ccccc2CCc2ccccc21</td>\n",
       "      <td>CC(C)(C)OC(=O)NC[C@H]1CCC[C@H](C)C1</td>\n",
       "      <td>0.445446</td>\n",
       "    </tr>\n",
       "    <tr>\n",
       "      <th>209</th>\n",
       "      <td>Carteolol</td>\n",
       "      <td>CC(C)(C)NCC(O)COc1cccc2c1CCC(=O)N2</td>\n",
       "      <td>CC(C)(C)OC(=O)NC[C@H]1CCC[C@H](C)C1</td>\n",
       "      <td>0.446408</td>\n",
       "    </tr>\n",
       "    <tr>\n",
       "      <th>1064</th>\n",
       "      <td>Pregabalin</td>\n",
       "      <td>CC(C)C[C@H](CN)CC(=O)O</td>\n",
       "      <td>CC(C)(C)OC(=O)NC[C@H]1CCC[C@H](C)C1</td>\n",
       "      <td>0.455063</td>\n",
       "    </tr>\n",
       "    <tr>\n",
       "      <th>987</th>\n",
       "      <td>Penbutolol</td>\n",
       "      <td>CC(C)(C)NC[C@H](O)COc1ccccc1C1CCCC1</td>\n",
       "      <td>CC(C)(C)OC(=O)NC[C@H]1CCC[C@H](C)C1</td>\n",
       "      <td>0.458178</td>\n",
       "    </tr>\n",
       "    <tr>\n",
       "      <th>...</th>\n",
       "      <td>...</td>\n",
       "      <td>...</td>\n",
       "      <td>...</td>\n",
       "      <td>...</td>\n",
       "    </tr>\n",
       "    <tr>\n",
       "      <th>531</th>\n",
       "      <td>Fluocinolone</td>\n",
       "      <td>CC1(C)O[C@@H]2C[C@H]3[C@@H]4C[C@H](F)C5=CC(=O)...</td>\n",
       "      <td>CC1(C)CC(=O)N(CC(=O)N2CCC[C@H](c3nc4ccccc4s3)C...</td>\n",
       "      <td>3.747535</td>\n",
       "    </tr>\n",
       "    <tr>\n",
       "      <th>1290</th>\n",
       "      <td>Trametinib</td>\n",
       "      <td>CC(=O)Nc1cccc(-n2c(=O)n(C3CC3)c(=O)c3c(Nc4ccc(...</td>\n",
       "      <td>CC(=O)Nc1ccc(C(=O)N[C@@H]2CCC[C@@H](C(F)(F)F)C...</td>\n",
       "      <td>3.751842</td>\n",
       "    </tr>\n",
       "    <tr>\n",
       "      <th>1030</th>\n",
       "      <td>Pimozide</td>\n",
       "      <td>O=c1[nH]c2ccccc2n1C1CCN(CCCC(c2ccc(F)cc2)c2ccc...</td>\n",
       "      <td>O=C(NC[C@H]1CCC[NH+](Cc2ccccc2)C1)N1CCN(S(=O)(...</td>\n",
       "      <td>3.757585</td>\n",
       "    </tr>\n",
       "    <tr>\n",
       "      <th>320</th>\n",
       "      <td>Cromoglicic</td>\n",
       "      <td>O=C(O)c1cc(=O)c2c(OCC(O)COc3cccc4oc(C(=O)O)cc(...</td>\n",
       "      <td>O=C(CCc1nnc(-c2ccc(Cl)cc2)n1)c1ccc(Cl)cc1)NC1CC1</td>\n",
       "      <td>3.762046</td>\n",
       "    </tr>\n",
       "    <tr>\n",
       "      <th>985</th>\n",
       "      <td>Pemetrexed</td>\n",
       "      <td>Nc1nc(=O)c2c(CCc3ccc(C(=O)N[C@H](CCC(=O)O)C(=O...</td>\n",
       "      <td>NC(=O)c1ccc(/C=C2\\SC(=S)N(c3cccc(C(=O)[O-])c3)...</td>\n",
       "      <td>3.771846</td>\n",
       "    </tr>\n",
       "    <tr>\n",
       "      <th>462</th>\n",
       "      <td>Eplerenone</td>\n",
       "      <td>COC(=O)[C@@H]1CC2=CC(=O)CC[C@]2(C)[C@@]23O[C@@...</td>\n",
       "      <td>COC(=O)c1ccc(C(=O)N2CCC(C(=O)Nc3ccc(C(=O)[O-])...</td>\n",
       "      <td>3.772964</td>\n",
       "    </tr>\n",
       "    <tr>\n",
       "      <th>1250</th>\n",
       "      <td>Thiabendazole</td>\n",
       "      <td>c1ccc2[nH]c(-c3cscn3)nc2c1</td>\n",
       "      <td>c1ccc([C@@H]2CCC[C@H]([NH3+])n2)nc1</td>\n",
       "      <td>3.777992</td>\n",
       "    </tr>\n",
       "    <tr>\n",
       "      <th>96</th>\n",
       "      <td>Aripiprazole</td>\n",
       "      <td>O=C1CCc2ccc(OCCCCN3CCN(c4cccc(Cl)c4Cl)CC3)cc2N1</td>\n",
       "      <td>O=C(CCc1nnc(-c2ccco2)n1-c1ccccc1)c1ccccc1</td>\n",
       "      <td>3.795046</td>\n",
       "    </tr>\n",
       "    <tr>\n",
       "      <th>340</th>\n",
       "      <td>Dantrolene</td>\n",
       "      <td>O=C1CN(N=Cc2ccc(-c3ccc([N+](=O)[O-])cc3)o2)C(=...</td>\n",
       "      <td>O=C(NC[C@H]1CCC[NH+](Cc2ccccc2)C1)N1CCN(S(=O)(...</td>\n",
       "      <td>3.815673</td>\n",
       "    </tr>\n",
       "    <tr>\n",
       "      <th>894</th>\n",
       "      <td>Naloxone</td>\n",
       "      <td>C=CCN1CC[C@]23c4c5ccc(O)c4O[C@H]2C(=O)CC[C@@]3...</td>\n",
       "      <td>COc1ccc([C@@H]2C(=O)Nc3ccccc3C2=O)cc1C(=O)N(C)C</td>\n",
       "      <td>3.817857</td>\n",
       "    </tr>\n",
       "    <tr>\n",
       "      <th>470</th>\n",
       "      <td>Ertapenem</td>\n",
       "      <td>C[C@@H](O)[C@H]1C(=O)N2C(C(=O)O)=C(S[C@@H]3CN[...</td>\n",
       "      <td>C[C@H]1CCC[C@@H]([NH2+][C@@H]2CCC[C@@H](C(F)(F...</td>\n",
       "      <td>3.836259</td>\n",
       "    </tr>\n",
       "    <tr>\n",
       "      <th>418</th>\n",
       "      <td>Domperidone</td>\n",
       "      <td>O=c1[nH]c2ccccc2n1CCCN1CCC(n2c(=O)[nH]c3cc(Cl)...</td>\n",
       "      <td>O=C(NC[C@H]1CCC[NH+](Cc2ccccc2)C1)N1CCN(S(=O)(...</td>\n",
       "      <td>3.854878</td>\n",
       "    </tr>\n",
       "    <tr>\n",
       "      <th>631</th>\n",
       "      <td>Hydromorphone</td>\n",
       "      <td>CN1CC[C@]23c4c5ccc(O)c4O[C@H]2C(=O)CC[C@H]3[C@...</td>\n",
       "      <td>Cc1ccc(NC(=O)C(=O)N2CCC[C@@H](c3nnc(C4CC4)o3)C...</td>\n",
       "      <td>3.906422</td>\n",
       "    </tr>\n",
       "    <tr>\n",
       "      <th>1270</th>\n",
       "      <td>Tiotropium</td>\n",
       "      <td>C[N+]1(C)[C@H]2CC(OC(=O)C(O)(c3cccs3)c3cccs3)C...</td>\n",
       "      <td>C[NH+](C)CC(=O)N1CCN(C(=O)c2ccc([N+](=O)[O-])c...</td>\n",
       "      <td>3.910982</td>\n",
       "    </tr>\n",
       "    <tr>\n",
       "      <th>969</th>\n",
       "      <td>Oxymorphone</td>\n",
       "      <td>CN1CC[C@]23c4c5ccc(O)c4O[C@H]2C(=O)CC[C@@]3(O)...</td>\n",
       "      <td>Cc1ccc(NC(=O)C(=O)N2CCC[C@@H](c3nnc(C4CC4)o3)C...</td>\n",
       "      <td>3.930128</td>\n",
       "    </tr>\n",
       "    <tr>\n",
       "      <th>768</th>\n",
       "      <td>Lurasidone</td>\n",
       "      <td>O=C1[C@H]2[C@@H]3CC[C@@H](C3)[C@H]2C(=O)N1C[C@...</td>\n",
       "      <td>O=C(NC[C@H]1CCC[NH+](Cc2ccccc2)C1)N1CCN(S(=O)(...</td>\n",
       "      <td>3.938358</td>\n",
       "    </tr>\n",
       "    <tr>\n",
       "      <th>996</th>\n",
       "      <td>Pentosan</td>\n",
       "      <td>O=S(=O)(O)O[C@H]1[C@H](O)CO[C@@H](O[C@@H]2CO[C...</td>\n",
       "      <td>O=S(=O)([N-]c1cccc(S(=O)(=O)N2CCCCC2)c1)c1ccc(...</td>\n",
       "      <td>3.945963</td>\n",
       "    </tr>\n",
       "    <tr>\n",
       "      <th>532</th>\n",
       "      <td>Fluorescein</td>\n",
       "      <td>O=C1OC2(c3ccc(O)cc3Oc3cc(O)ccc32)c2ccccc21</td>\n",
       "      <td>O=C(NC[C@H]1CCC[NH+](Cc2ccccc2)C1)N1CCN(S(=O)(...</td>\n",
       "      <td>3.955479</td>\n",
       "    </tr>\n",
       "    <tr>\n",
       "      <th>881</th>\n",
       "      <td>Morphine</td>\n",
       "      <td>CN1CC[C@]23c4c5ccc(O)c4O[C@H]2[C@@H](O)C=C[C@H...</td>\n",
       "      <td>Cc1ccc(NC(=O)C(=O)N2CCC[C@@H](c3nnc(C4CC4)o3)C...</td>\n",
       "      <td>3.972693</td>\n",
       "    </tr>\n",
       "    <tr>\n",
       "      <th>1334</th>\n",
       "      <td>Varenicline</td>\n",
       "      <td>c1cnc2cc3c(cc2n1)[C@H]1CNC[C@@H]3C1</td>\n",
       "      <td>c1ccc([C@@H]2CC(=O)Nc3ccccc3C2=O)cc1Cl</td>\n",
       "      <td>3.976986</td>\n",
       "    </tr>\n",
       "    <tr>\n",
       "      <th>394</th>\n",
       "      <td>Dihydroergotoxine</td>\n",
       "      <td>CN1C[C@H](C(=O)N[C@]2(C)O[C@@]3(O)[C@@H]4CCCN4...</td>\n",
       "      <td>Cc1ccc(NC(=O)C(=O)N2CCC[C@@H](c3nnc(C4CC4)o3)C...</td>\n",
       "      <td>3.977251</td>\n",
       "    </tr>\n",
       "    <tr>\n",
       "      <th>468</th>\n",
       "      <td>Ergotamine</td>\n",
       "      <td>CN1C[C@H](C(=O)N[C@]2(C)O[C@@]3(O)[C@@H]4CCCN4...</td>\n",
       "      <td>Cc1ccc(NC(=O)C(=O)N2CCC[C@@H](c3nnc(C4CC4)o3)C...</td>\n",
       "      <td>3.982061</td>\n",
       "    </tr>\n",
       "    <tr>\n",
       "      <th>1358</th>\n",
       "      <td>Ziprasidone</td>\n",
       "      <td>O=C1Cc2cc(CCN3CCN(c4nsc5ccccc45)CC3)c(Cl)cc2N1</td>\n",
       "      <td>O=C(CSc1nc2ccccc2n1C)c1ccc(C(=O)N2CCCC2)cc1</td>\n",
       "      <td>3.994777</td>\n",
       "    </tr>\n",
       "    <tr>\n",
       "      <th>471</th>\n",
       "      <td>Erythrityl</td>\n",
       "      <td>O=[N+]([O-])OC[C@H](O[N+](=O)[O-])[C@@H](CO[N+...</td>\n",
       "      <td>O=[N+]([O-])c1ccc([C@@H]2CC(=O)N(c3ccc(F)cc3)C...</td>\n",
       "      <td>4.009575</td>\n",
       "    </tr>\n",
       "    <tr>\n",
       "      <th>926</th>\n",
       "      <td>Nitric</td>\n",
       "      <td>[N]=O</td>\n",
       "      <td>[NH3+][C@H](Cc1ccccc1)C(Cl)(Cl)Cl)c1ccccc1</td>\n",
       "      <td>4.055151</td>\n",
       "    </tr>\n",
       "    <tr>\n",
       "      <th>1321</th>\n",
       "      <td>Trovafloxacin</td>\n",
       "      <td>NC1[C@@H]2CN(c3nc4c(cc3F)c(=O)c(C(=O)O)cn4-c3c...</td>\n",
       "      <td>NC(=O)c1ccc(/C=C2\\SC(=S)N(c3c(C(=O)[O-])[nH]c4...</td>\n",
       "      <td>4.158525</td>\n",
       "    </tr>\n",
       "    <tr>\n",
       "      <th>895</th>\n",
       "      <td>Naltrexone</td>\n",
       "      <td>O=C1CC[C@@]2(O)[C@H]3Cc4ccc(O)c5c4[C@@]2(CCN3C...</td>\n",
       "      <td>O=C(CSc1nc2ccccc2n1C)c1ccc(C(=O)N2CCCC2)cc1</td>\n",
       "      <td>4.161473</td>\n",
       "    </tr>\n",
       "    <tr>\n",
       "      <th>149</th>\n",
       "      <td>Bifonazole</td>\n",
       "      <td>c1ccc(-c2ccc(C(c3ccccc3)n3ccnc3)cc2)cc1</td>\n",
       "      <td>c1ccc(-c2ccc(C[NH2+][C@@H]3CCC[C@@H]3C(F)(F)F)...</td>\n",
       "      <td>4.193032</td>\n",
       "    </tr>\n",
       "    <tr>\n",
       "      <th>892</th>\n",
       "      <td>Nalbuphine</td>\n",
       "      <td>Oc1ccc2c3c1O[C@H]1[C@@H](O)CC[C@@]4(O)[C@@H](C...</td>\n",
       "      <td>O=C(NC[C@H]1CCC[NH+](Cc2ccc(Cl)cc2)C1)c1ccc2c(...</td>\n",
       "      <td>4.240251</td>\n",
       "    </tr>\n",
       "    <tr>\n",
       "      <th>832</th>\n",
       "      <td>Methylnaltrexone</td>\n",
       "      <td>C[N+]1(CC2CC2)CC[C@]23c4c5ccc(O)c4O[C@H]2C(=O)...</td>\n",
       "      <td>C[C@H](NC(=O)CSc1ncc(-c2ccccc2)nc1)c1ccccc1</td>\n",
       "      <td>4.361348</td>\n",
       "    </tr>\n",
       "  </tbody>\n",
       "</table>\n",
       "<p>1365 rows × 4 columns</p>\n",
       "</div>"
      ],
      "text/plain": [
       "                   drug                                             SMILES  \\\n",
       "640           Ibuprofen                         CC(C)Cc1ccc(C(C)C(=O)O)cc1   \n",
       "137            Bepridil            CC(C)COCC(CN(Cc1ccccc1)c1ccccc1)N1CCCC1   \n",
       "1031           Pindolol                      CC(C)NCC(O)COc1cccc2[nH]ccc12   \n",
       "103            Atenolol                     CC(C)NCC(O)COc1ccc(CC(N)=O)cc1   \n",
       "141           Betaxolol                   CC(C)NCC(O)COc1ccc(CCOCC2CC2)cc1   \n",
       "154          Bisoprolol                  CC(C)NCC(O)COc1ccc(COCCOC(C)C)cc1   \n",
       "1179            Sotalol                   CC(C)NCC(O)c1ccc(NS(C)(=O)=O)cc1   \n",
       "558         Fospropofol                   CC(C)c1cccc(C(C)C)c1OCOP(=O)(O)O   \n",
       "793             Menthol                    CC(C)[C@@H]1CC[C@@H](C)C[C@H]1O   \n",
       "1151         Salbutamol                      CC(C)(C)NCC(O)c1ccc(O)c(CO)c1   \n",
       "1238        Terbutaline                       CC(C)(C)NCC(O)c1cc(O)cc(O)c1   \n",
       "414          Dobutamine                 CC(CCc1ccc(O)cc1)NCCc1ccc(O)c(O)c1   \n",
       "1038         Pirbuterol                      CC(C)(C)NCC(O)c1ccc(O)c(CO)n1   \n",
       "669       Isoflurophate                               CC(C)OP(=O)(F)OC(C)C   \n",
       "1089        Propranolol                        CC(C)NCC(O)COc1cccc2ccccc12   \n",
       "673       Isoproterenol                          CC(C)NCC(O)c1ccc(O)c(O)c1   \n",
       "948       Orciprenaline                          CC(C)NCC(O)c1cc(O)cc(O)c1   \n",
       "639           Ibudilast                     CC(C)C(=O)c1c(C(C)C)nn2ccccc12   \n",
       "1087           Propofol                              CC(C)c1cccc(C(C)C)c1O   \n",
       "1016   Phenoxybenzamine                     CC(COc1ccccc1)N(CCCl)Cc1ccccc1   \n",
       "510          Fenoprofen                      CC(C(=O)O)c1cccc(Oc2ccccc2)c1   \n",
       "1308       Trimeprazine                    CC(CN(C)C)CN1c2ccccc2Sc2ccccc21   \n",
       "621          Hexylcaine                       CC(CNC1CCCCC1)OC(=O)c1ccccc1   \n",
       "727         Levobunolol               CC(C)(C)NC[C@H](O)COc1cccc2c1CCCC2=O   \n",
       "289         Clenbuterol                  CC(C)(C)NCC(O)c1cc(Cl)c(N)c(Cl)c1   \n",
       "1079          Proguanil                   CC(C)/N=C(\\N)N=C(N)Nc1ccc(Cl)cc1   \n",
       "1314       Trimipramine                   CC(CN(C)C)CN1c2ccccc2CCc2ccccc21   \n",
       "209           Carteolol                 CC(C)(C)NCC(O)COc1cccc2c1CCC(=O)N2   \n",
       "1064         Pregabalin                             CC(C)C[C@H](CN)CC(=O)O   \n",
       "987          Penbutolol                CC(C)(C)NC[C@H](O)COc1ccccc1C1CCCC1   \n",
       "...                 ...                                                ...   \n",
       "531        Fluocinolone  CC1(C)O[C@@H]2C[C@H]3[C@@H]4C[C@H](F)C5=CC(=O)...   \n",
       "1290         Trametinib  CC(=O)Nc1cccc(-n2c(=O)n(C3CC3)c(=O)c3c(Nc4ccc(...   \n",
       "1030           Pimozide  O=c1[nH]c2ccccc2n1C1CCN(CCCC(c2ccc(F)cc2)c2ccc...   \n",
       "320         Cromoglicic  O=C(O)c1cc(=O)c2c(OCC(O)COc3cccc4oc(C(=O)O)cc(...   \n",
       "985          Pemetrexed  Nc1nc(=O)c2c(CCc3ccc(C(=O)N[C@H](CCC(=O)O)C(=O...   \n",
       "462          Eplerenone  COC(=O)[C@@H]1CC2=CC(=O)CC[C@]2(C)[C@@]23O[C@@...   \n",
       "1250      Thiabendazole                         c1ccc2[nH]c(-c3cscn3)nc2c1   \n",
       "96         Aripiprazole    O=C1CCc2ccc(OCCCCN3CCN(c4cccc(Cl)c4Cl)CC3)cc2N1   \n",
       "340          Dantrolene  O=C1CN(N=Cc2ccc(-c3ccc([N+](=O)[O-])cc3)o2)C(=...   \n",
       "894            Naloxone  C=CCN1CC[C@]23c4c5ccc(O)c4O[C@H]2C(=O)CC[C@@]3...   \n",
       "470           Ertapenem  C[C@@H](O)[C@H]1C(=O)N2C(C(=O)O)=C(S[C@@H]3CN[...   \n",
       "418         Domperidone  O=c1[nH]c2ccccc2n1CCCN1CCC(n2c(=O)[nH]c3cc(Cl)...   \n",
       "631       Hydromorphone  CN1CC[C@]23c4c5ccc(O)c4O[C@H]2C(=O)CC[C@H]3[C@...   \n",
       "1270         Tiotropium  C[N+]1(C)[C@H]2CC(OC(=O)C(O)(c3cccs3)c3cccs3)C...   \n",
       "969         Oxymorphone  CN1CC[C@]23c4c5ccc(O)c4O[C@H]2C(=O)CC[C@@]3(O)...   \n",
       "768          Lurasidone  O=C1[C@H]2[C@@H]3CC[C@@H](C3)[C@H]2C(=O)N1C[C@...   \n",
       "996            Pentosan  O=S(=O)(O)O[C@H]1[C@H](O)CO[C@@H](O[C@@H]2CO[C...   \n",
       "532         Fluorescein         O=C1OC2(c3ccc(O)cc3Oc3cc(O)ccc32)c2ccccc21   \n",
       "881            Morphine  CN1CC[C@]23c4c5ccc(O)c4O[C@H]2[C@@H](O)C=C[C@H...   \n",
       "1334        Varenicline                c1cnc2cc3c(cc2n1)[C@H]1CNC[C@@H]3C1   \n",
       "394   Dihydroergotoxine  CN1C[C@H](C(=O)N[C@]2(C)O[C@@]3(O)[C@@H]4CCCN4...   \n",
       "468          Ergotamine  CN1C[C@H](C(=O)N[C@]2(C)O[C@@]3(O)[C@@H]4CCCN4...   \n",
       "1358        Ziprasidone     O=C1Cc2cc(CCN3CCN(c4nsc5ccccc45)CC3)c(Cl)cc2N1   \n",
       "471          Erythrityl  O=[N+]([O-])OC[C@H](O[N+](=O)[O-])[C@@H](CO[N+...   \n",
       "926              Nitric                                              [N]=O   \n",
       "1321      Trovafloxacin  NC1[C@@H]2CN(c3nc4c(cc3F)c(=O)c(C(=O)O)cn4-c3c...   \n",
       "895          Naltrexone  O=C1CC[C@@]2(O)[C@H]3Cc4ccc(O)c5c4[C@@]2(CCN3C...   \n",
       "149          Bifonazole            c1ccc(-c2ccc(C(c3ccccc3)n3ccnc3)cc2)cc1   \n",
       "892          Nalbuphine  Oc1ccc2c3c1O[C@H]1[C@@H](O)CC[C@@]4(O)[C@@H](C...   \n",
       "832    Methylnaltrexone  C[N+]1(CC2CC2)CC[C@]23c4c5ccc(O)c4O[C@H]2C(=O)...   \n",
       "\n",
       "                                             SMILES_VAE      dist  \n",
       "640                 CC(C)(C)OC(=O)NC[C@H]1CCC[C@H](C)C1  0.000000  \n",
       "137                 CC(C)(C)OC(=O)NC[C@H]1CCC[C@H](C)C1  0.216525  \n",
       "1031                CC(C)(C)OC(=O)NC[C@H]1CCC[C@H](C)C1  0.241444  \n",
       "103                 CC(C)(C)OC(=O)NC[C@H]1CCC[C@H](C)C1  0.242473  \n",
       "141                 CC(C)(C)OC(=O)NC[C@H]1CCC[C@H](C)C1  0.247049  \n",
       "154                 CC(C)(C)OC(=O)NC[C@H]1CCC[C@H](C)C1  0.263796  \n",
       "1179                CC(C)(C)OC(=O)NC[C@H]1CCC[C@H](C)C1  0.283380  \n",
       "558     CC(C)(C)OC(=O)N1CCC[C@@H](C(=O)Nc2cccc(Cl)c2)C1  0.301341  \n",
       "793                 CC(C)(C)OC(=O)NC[C@H]1CCC[C@H](C)C1  0.320884  \n",
       "1151                CC(C)(C)OC(=O)NC[C@H]1CCC[C@H](C)C1  0.326287  \n",
       "1238                CC(C)(C)OC(=O)NC[C@H]1CCC[C@H](C)C1  0.326297  \n",
       "414     CC(C)(C)OC(=O)N1CCC[C@@H](C(=O)Nc2cccc(Cl)c2)C1  0.326335  \n",
       "1038                CC(C)(C)OC(=O)NC[C@H]1CCC[C@H](C)C1  0.334226  \n",
       "669                 CC(C)(C)OC(=O)NC[C@H]1CCC[C@H](C)C1  0.336808  \n",
       "1089                CC(C)(C)OC(=O)NC[C@H]1CCC[C@H](C)C1  0.342228  \n",
       "673                 CC(C)(C)OC(=O)NC[C@H]1CCC[C@H](C)C1  0.347848  \n",
       "948                 CC(C)(C)OC(=O)NC[C@H]1CCC[C@H](C)C1  0.354112  \n",
       "639                 CC(C)(C)OC(=O)NC[C@H]1CCC[C@H](C)C1  0.368191  \n",
       "1087                CC(C)(C)OC(=O)NC[C@H]1CCC[C@H](C)C1  0.380770  \n",
       "1016                CC(C)(C)OC(=O)NC[C@H]1CCC[C@H](C)C1  0.387779  \n",
       "510                 CC(C)(C)OC(=O)NC[C@H]1CCC[C@H](C)C1  0.393790  \n",
       "1308                CC(C)(C)OC(=O)NC[C@H]1CCC[C@H](C)C1  0.394211  \n",
       "621                 CC(C)(C)OC(=O)NC[C@H]1CCC[C@H](C)C1  0.396702  \n",
       "727                 CC(C)(C)OC(=O)NC[C@H]1CCC[C@H](C)C1  0.401331  \n",
       "289                 CC(C)(C)OC(=O)NC[C@H]1CCC[C@H](C)C1  0.430916  \n",
       "1079                CC(C)(C)OC(=O)NC[C@H]1CCC[C@H](C)C1  0.443976  \n",
       "1314                CC(C)(C)OC(=O)NC[C@H]1CCC[C@H](C)C1  0.445446  \n",
       "209                 CC(C)(C)OC(=O)NC[C@H]1CCC[C@H](C)C1  0.446408  \n",
       "1064                CC(C)(C)OC(=O)NC[C@H]1CCC[C@H](C)C1  0.455063  \n",
       "987                 CC(C)(C)OC(=O)NC[C@H]1CCC[C@H](C)C1  0.458178  \n",
       "...                                                 ...       ...  \n",
       "531   CC1(C)CC(=O)N(CC(=O)N2CCC[C@H](c3nc4ccccc4s3)C...  3.747535  \n",
       "1290  CC(=O)Nc1ccc(C(=O)N[C@@H]2CCC[C@@H](C(F)(F)F)C...  3.751842  \n",
       "1030  O=C(NC[C@H]1CCC[NH+](Cc2ccccc2)C1)N1CCN(S(=O)(...  3.757585  \n",
       "320    O=C(CCc1nnc(-c2ccc(Cl)cc2)n1)c1ccc(Cl)cc1)NC1CC1  3.762046  \n",
       "985   NC(=O)c1ccc(/C=C2\\SC(=S)N(c3cccc(C(=O)[O-])c3)...  3.771846  \n",
       "462   COC(=O)c1ccc(C(=O)N2CCC(C(=O)Nc3ccc(C(=O)[O-])...  3.772964  \n",
       "1250                c1ccc([C@@H]2CCC[C@H]([NH3+])n2)nc1  3.777992  \n",
       "96            O=C(CCc1nnc(-c2ccco2)n1-c1ccccc1)c1ccccc1  3.795046  \n",
       "340   O=C(NC[C@H]1CCC[NH+](Cc2ccccc2)C1)N1CCN(S(=O)(...  3.815673  \n",
       "894     COc1ccc([C@@H]2C(=O)Nc3ccccc3C2=O)cc1C(=O)N(C)C  3.817857  \n",
       "470   C[C@H]1CCC[C@@H]([NH2+][C@@H]2CCC[C@@H](C(F)(F...  3.836259  \n",
       "418   O=C(NC[C@H]1CCC[NH+](Cc2ccccc2)C1)N1CCN(S(=O)(...  3.854878  \n",
       "631   Cc1ccc(NC(=O)C(=O)N2CCC[C@@H](c3nnc(C4CC4)o3)C...  3.906422  \n",
       "1270  C[NH+](C)CC(=O)N1CCN(C(=O)c2ccc([N+](=O)[O-])c...  3.910982  \n",
       "969   Cc1ccc(NC(=O)C(=O)N2CCC[C@@H](c3nnc(C4CC4)o3)C...  3.930128  \n",
       "768   O=C(NC[C@H]1CCC[NH+](Cc2ccccc2)C1)N1CCN(S(=O)(...  3.938358  \n",
       "996   O=S(=O)([N-]c1cccc(S(=O)(=O)N2CCCCC2)c1)c1ccc(...  3.945963  \n",
       "532   O=C(NC[C@H]1CCC[NH+](Cc2ccccc2)C1)N1CCN(S(=O)(...  3.955479  \n",
       "881   Cc1ccc(NC(=O)C(=O)N2CCC[C@@H](c3nnc(C4CC4)o3)C...  3.972693  \n",
       "1334             c1ccc([C@@H]2CC(=O)Nc3ccccc3C2=O)cc1Cl  3.976986  \n",
       "394   Cc1ccc(NC(=O)C(=O)N2CCC[C@@H](c3nnc(C4CC4)o3)C...  3.977251  \n",
       "468   Cc1ccc(NC(=O)C(=O)N2CCC[C@@H](c3nnc(C4CC4)o3)C...  3.982061  \n",
       "1358        O=C(CSc1nc2ccccc2n1C)c1ccc(C(=O)N2CCCC2)cc1  3.994777  \n",
       "471   O=[N+]([O-])c1ccc([C@@H]2CC(=O)N(c3ccc(F)cc3)C...  4.009575  \n",
       "926          [NH3+][C@H](Cc1ccccc1)C(Cl)(Cl)Cl)c1ccccc1  4.055151  \n",
       "1321  NC(=O)c1ccc(/C=C2\\SC(=S)N(c3c(C(=O)[O-])[nH]c4...  4.158525  \n",
       "895         O=C(CSc1nc2ccccc2n1C)c1ccc(C(=O)N2CCCC2)cc1  4.161473  \n",
       "149   c1ccc(-c2ccc(C[NH2+][C@@H]3CCC[C@@H]3C(F)(F)F)...  4.193032  \n",
       "892   O=C(NC[C@H]1CCC[NH+](Cc2ccc(Cl)cc2)C1)c1ccc2c(...  4.240251  \n",
       "832         C[C@H](NC(=O)CSc1ncc(-c2ccccc2)nc1)c1ccccc1  4.361348  \n",
       "\n",
       "[1365 rows x 4 columns]"
      ]
     },
     "execution_count": 300,
     "metadata": {},
     "output_type": "execute_result"
    }
   ],
   "source": [
    "idx = df['SMILES_VAE'] != '[CC(C)(C)OC(=O)NC[C@H]1CCC[C@H](C)C1]'\n",
    "df[idx].sort_values(by=['dist'])"
   ]
  },
  {
   "cell_type": "markdown",
   "metadata": {},
   "source": [
    "<font color='red'><font size = '3'> COMMENTS </font>\n",
    "* mean of Ibuprofen falls into a dead spot in latent space (Z), where no information was encoded into\n",
    "* drugs at bottom seem to have more meaningful representation in Z"
   ]
  },
  {
   "cell_type": "code",
   "execution_count": null,
   "metadata": {},
   "outputs": [],
   "source": []
  }
 ],
 "metadata": {
  "kernelspec": {
   "display_name": "Python 3",
   "language": "python",
   "name": "python3"
  },
  "language_info": {
   "codemirror_mode": {
    "name": "ipython",
    "version": 3
   },
   "file_extension": ".py",
   "mimetype": "text/x-python",
   "name": "python",
   "nbconvert_exporter": "python",
   "pygments_lexer": "ipython3",
   "version": "3.6.8"
  }
 },
 "nbformat": 4,
 "nbformat_minor": 2
}
